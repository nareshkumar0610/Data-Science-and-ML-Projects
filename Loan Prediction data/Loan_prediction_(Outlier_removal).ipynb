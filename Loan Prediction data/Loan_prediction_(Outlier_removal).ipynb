{
 "cells": [
  {
   "cell_type": "markdown",
   "id": "02efeae3",
   "metadata": {},
   "source": [
    "# Loan Prediction Project\n",
    "\n",
    "Dataset_link: https://www.kaggle.com/datasets/ninzaami/loan-predication"
   ]
  },
  {
   "cell_type": "code",
   "execution_count": 5,
   "id": "fb1e84eb",
   "metadata": {},
   "outputs": [],
   "source": [
    "# Importing libraries\n",
    "import numpy as np\n",
    "import pandas as pd\n",
    "import matplotlib.pyplot as plt\n",
    "import seaborn as sns"
   ]
  },
  {
   "cell_type": "markdown",
   "id": "84fa1dd3",
   "metadata": {},
   "source": [
    "### Load and Read Dataset"
   ]
  },
  {
   "cell_type": "code",
   "execution_count": 7,
   "id": "be31328f",
   "metadata": {},
   "outputs": [
    {
     "data": {
      "text/html": [
       "<div>\n",
       "<style scoped>\n",
       "    .dataframe tbody tr th:only-of-type {\n",
       "        vertical-align: middle;\n",
       "    }\n",
       "\n",
       "    .dataframe tbody tr th {\n",
       "        vertical-align: top;\n",
       "    }\n",
       "\n",
       "    .dataframe thead th {\n",
       "        text-align: right;\n",
       "    }\n",
       "</style>\n",
       "<table border=\"1\" class=\"dataframe\">\n",
       "  <thead>\n",
       "    <tr style=\"text-align: right;\">\n",
       "      <th></th>\n",
       "      <th>Loan_ID</th>\n",
       "      <th>Gender</th>\n",
       "      <th>Married</th>\n",
       "      <th>Dependents</th>\n",
       "      <th>Education</th>\n",
       "      <th>Self_Employed</th>\n",
       "      <th>ApplicantIncome</th>\n",
       "      <th>CoapplicantIncome</th>\n",
       "      <th>LoanAmount</th>\n",
       "      <th>Loan_Amount_Term</th>\n",
       "      <th>Credit_History</th>\n",
       "      <th>Property_Area</th>\n",
       "      <th>Loan_Status</th>\n",
       "    </tr>\n",
       "  </thead>\n",
       "  <tbody>\n",
       "    <tr>\n",
       "      <th>0</th>\n",
       "      <td>LP001002</td>\n",
       "      <td>Male</td>\n",
       "      <td>No</td>\n",
       "      <td>0</td>\n",
       "      <td>Graduate</td>\n",
       "      <td>No</td>\n",
       "      <td>5849</td>\n",
       "      <td>0.0</td>\n",
       "      <td>NaN</td>\n",
       "      <td>360.0</td>\n",
       "      <td>1.0</td>\n",
       "      <td>Urban</td>\n",
       "      <td>Y</td>\n",
       "    </tr>\n",
       "    <tr>\n",
       "      <th>1</th>\n",
       "      <td>LP001003</td>\n",
       "      <td>Male</td>\n",
       "      <td>Yes</td>\n",
       "      <td>1</td>\n",
       "      <td>Graduate</td>\n",
       "      <td>No</td>\n",
       "      <td>4583</td>\n",
       "      <td>1508.0</td>\n",
       "      <td>128.0</td>\n",
       "      <td>360.0</td>\n",
       "      <td>1.0</td>\n",
       "      <td>Rural</td>\n",
       "      <td>N</td>\n",
       "    </tr>\n",
       "    <tr>\n",
       "      <th>2</th>\n",
       "      <td>LP001005</td>\n",
       "      <td>Male</td>\n",
       "      <td>Yes</td>\n",
       "      <td>0</td>\n",
       "      <td>Graduate</td>\n",
       "      <td>Yes</td>\n",
       "      <td>3000</td>\n",
       "      <td>0.0</td>\n",
       "      <td>66.0</td>\n",
       "      <td>360.0</td>\n",
       "      <td>1.0</td>\n",
       "      <td>Urban</td>\n",
       "      <td>Y</td>\n",
       "    </tr>\n",
       "    <tr>\n",
       "      <th>3</th>\n",
       "      <td>LP001006</td>\n",
       "      <td>Male</td>\n",
       "      <td>Yes</td>\n",
       "      <td>0</td>\n",
       "      <td>Not Graduate</td>\n",
       "      <td>No</td>\n",
       "      <td>2583</td>\n",
       "      <td>2358.0</td>\n",
       "      <td>120.0</td>\n",
       "      <td>360.0</td>\n",
       "      <td>1.0</td>\n",
       "      <td>Urban</td>\n",
       "      <td>Y</td>\n",
       "    </tr>\n",
       "    <tr>\n",
       "      <th>4</th>\n",
       "      <td>LP001008</td>\n",
       "      <td>Male</td>\n",
       "      <td>No</td>\n",
       "      <td>0</td>\n",
       "      <td>Graduate</td>\n",
       "      <td>No</td>\n",
       "      <td>6000</td>\n",
       "      <td>0.0</td>\n",
       "      <td>141.0</td>\n",
       "      <td>360.0</td>\n",
       "      <td>1.0</td>\n",
       "      <td>Urban</td>\n",
       "      <td>Y</td>\n",
       "    </tr>\n",
       "  </tbody>\n",
       "</table>\n",
       "</div>"
      ],
      "text/plain": [
       "    Loan_ID Gender Married Dependents     Education Self_Employed  \\\n",
       "0  LP001002   Male      No          0      Graduate            No   \n",
       "1  LP001003   Male     Yes          1      Graduate            No   \n",
       "2  LP001005   Male     Yes          0      Graduate           Yes   \n",
       "3  LP001006   Male     Yes          0  Not Graduate            No   \n",
       "4  LP001008   Male      No          0      Graduate            No   \n",
       "\n",
       "   ApplicantIncome  CoapplicantIncome  LoanAmount  Loan_Amount_Term  \\\n",
       "0             5849                0.0         NaN             360.0   \n",
       "1             4583             1508.0       128.0             360.0   \n",
       "2             3000                0.0        66.0             360.0   \n",
       "3             2583             2358.0       120.0             360.0   \n",
       "4             6000                0.0       141.0             360.0   \n",
       "\n",
       "   Credit_History Property_Area Loan_Status  \n",
       "0             1.0         Urban           Y  \n",
       "1             1.0         Rural           N  \n",
       "2             1.0         Urban           Y  \n",
       "3             1.0         Urban           Y  \n",
       "4             1.0         Urban           Y  "
      ]
     },
     "execution_count": 7,
     "metadata": {},
     "output_type": "execute_result"
    }
   ],
   "source": [
    "LD = pd.read_csv(r'''C:\\Users\\USER\\OneDrive\\Desktop\\Naresh\\DS and ML Projects\\Data\\Loan_data\\Loan_data.csv''')\n",
    "LD.head()"
   ]
  },
  {
   "cell_type": "markdown",
   "id": "245104b7",
   "metadata": {},
   "source": [
    "### EDA"
   ]
  },
  {
   "cell_type": "code",
   "execution_count": 9,
   "id": "53d2cb89",
   "metadata": {},
   "outputs": [
    {
     "name": "stdout",
     "output_type": "stream",
     "text": [
      "<class 'pandas.core.frame.DataFrame'>\n",
      "RangeIndex: 614 entries, 0 to 613\n",
      "Data columns (total 13 columns):\n",
      " #   Column             Non-Null Count  Dtype  \n",
      "---  ------             --------------  -----  \n",
      " 0   Loan_ID            614 non-null    object \n",
      " 1   Gender             601 non-null    object \n",
      " 2   Married            611 non-null    object \n",
      " 3   Dependents         599 non-null    object \n",
      " 4   Education          614 non-null    object \n",
      " 5   Self_Employed      582 non-null    object \n",
      " 6   ApplicantIncome    614 non-null    int64  \n",
      " 7   CoapplicantIncome  614 non-null    float64\n",
      " 8   LoanAmount         592 non-null    float64\n",
      " 9   Loan_Amount_Term   600 non-null    float64\n",
      " 10  Credit_History     564 non-null    float64\n",
      " 11  Property_Area      614 non-null    object \n",
      " 12  Loan_Status        614 non-null    object \n",
      "dtypes: float64(4), int64(1), object(8)\n",
      "memory usage: 62.5+ KB\n"
     ]
    }
   ],
   "source": [
    "LD.info()"
   ]
  },
  {
   "cell_type": "code",
   "execution_count": 10,
   "id": "f48dfa95",
   "metadata": {},
   "outputs": [
    {
     "data": {
      "text/html": [
       "<div>\n",
       "<style scoped>\n",
       "    .dataframe tbody tr th:only-of-type {\n",
       "        vertical-align: middle;\n",
       "    }\n",
       "\n",
       "    .dataframe tbody tr th {\n",
       "        vertical-align: top;\n",
       "    }\n",
       "\n",
       "    .dataframe thead th {\n",
       "        text-align: right;\n",
       "    }\n",
       "</style>\n",
       "<table border=\"1\" class=\"dataframe\">\n",
       "  <thead>\n",
       "    <tr style=\"text-align: right;\">\n",
       "      <th></th>\n",
       "      <th>ApplicantIncome</th>\n",
       "      <th>CoapplicantIncome</th>\n",
       "      <th>LoanAmount</th>\n",
       "      <th>Loan_Amount_Term</th>\n",
       "      <th>Credit_History</th>\n",
       "    </tr>\n",
       "  </thead>\n",
       "  <tbody>\n",
       "    <tr>\n",
       "      <th>count</th>\n",
       "      <td>614.000000</td>\n",
       "      <td>614.000000</td>\n",
       "      <td>592.000000</td>\n",
       "      <td>600.00000</td>\n",
       "      <td>564.000000</td>\n",
       "    </tr>\n",
       "    <tr>\n",
       "      <th>mean</th>\n",
       "      <td>5403.459283</td>\n",
       "      <td>1621.245798</td>\n",
       "      <td>146.412162</td>\n",
       "      <td>342.00000</td>\n",
       "      <td>0.842199</td>\n",
       "    </tr>\n",
       "    <tr>\n",
       "      <th>std</th>\n",
       "      <td>6109.041673</td>\n",
       "      <td>2926.248369</td>\n",
       "      <td>85.587325</td>\n",
       "      <td>65.12041</td>\n",
       "      <td>0.364878</td>\n",
       "    </tr>\n",
       "    <tr>\n",
       "      <th>min</th>\n",
       "      <td>150.000000</td>\n",
       "      <td>0.000000</td>\n",
       "      <td>9.000000</td>\n",
       "      <td>12.00000</td>\n",
       "      <td>0.000000</td>\n",
       "    </tr>\n",
       "    <tr>\n",
       "      <th>25%</th>\n",
       "      <td>2877.500000</td>\n",
       "      <td>0.000000</td>\n",
       "      <td>100.000000</td>\n",
       "      <td>360.00000</td>\n",
       "      <td>1.000000</td>\n",
       "    </tr>\n",
       "    <tr>\n",
       "      <th>50%</th>\n",
       "      <td>3812.500000</td>\n",
       "      <td>1188.500000</td>\n",
       "      <td>128.000000</td>\n",
       "      <td>360.00000</td>\n",
       "      <td>1.000000</td>\n",
       "    </tr>\n",
       "    <tr>\n",
       "      <th>75%</th>\n",
       "      <td>5795.000000</td>\n",
       "      <td>2297.250000</td>\n",
       "      <td>168.000000</td>\n",
       "      <td>360.00000</td>\n",
       "      <td>1.000000</td>\n",
       "    </tr>\n",
       "    <tr>\n",
       "      <th>max</th>\n",
       "      <td>81000.000000</td>\n",
       "      <td>41667.000000</td>\n",
       "      <td>700.000000</td>\n",
       "      <td>480.00000</td>\n",
       "      <td>1.000000</td>\n",
       "    </tr>\n",
       "  </tbody>\n",
       "</table>\n",
       "</div>"
      ],
      "text/plain": [
       "       ApplicantIncome  CoapplicantIncome  LoanAmount  Loan_Amount_Term  \\\n",
       "count       614.000000         614.000000  592.000000         600.00000   \n",
       "mean       5403.459283        1621.245798  146.412162         342.00000   \n",
       "std        6109.041673        2926.248369   85.587325          65.12041   \n",
       "min         150.000000           0.000000    9.000000          12.00000   \n",
       "25%        2877.500000           0.000000  100.000000         360.00000   \n",
       "50%        3812.500000        1188.500000  128.000000         360.00000   \n",
       "75%        5795.000000        2297.250000  168.000000         360.00000   \n",
       "max       81000.000000       41667.000000  700.000000         480.00000   \n",
       "\n",
       "       Credit_History  \n",
       "count      564.000000  \n",
       "mean         0.842199  \n",
       "std          0.364878  \n",
       "min          0.000000  \n",
       "25%          1.000000  \n",
       "50%          1.000000  \n",
       "75%          1.000000  \n",
       "max          1.000000  "
      ]
     },
     "execution_count": 10,
     "metadata": {},
     "output_type": "execute_result"
    }
   ],
   "source": [
    "LD.describe()"
   ]
  },
  {
   "cell_type": "code",
   "execution_count": 11,
   "id": "aee4d179",
   "metadata": {},
   "outputs": [
    {
     "data": {
      "text/html": [
       "<div>\n",
       "<style scoped>\n",
       "    .dataframe tbody tr th:only-of-type {\n",
       "        vertical-align: middle;\n",
       "    }\n",
       "\n",
       "    .dataframe tbody tr th {\n",
       "        vertical-align: top;\n",
       "    }\n",
       "\n",
       "    .dataframe thead th {\n",
       "        text-align: right;\n",
       "    }\n",
       "</style>\n",
       "<table border=\"1\" class=\"dataframe\">\n",
       "  <thead>\n",
       "    <tr style=\"text-align: right;\">\n",
       "      <th></th>\n",
       "      <th>Loan_ID</th>\n",
       "      <th>Gender</th>\n",
       "      <th>Married</th>\n",
       "      <th>Dependents</th>\n",
       "      <th>Education</th>\n",
       "      <th>Self_Employed</th>\n",
       "      <th>Property_Area</th>\n",
       "      <th>Loan_Status</th>\n",
       "    </tr>\n",
       "  </thead>\n",
       "  <tbody>\n",
       "    <tr>\n",
       "      <th>count</th>\n",
       "      <td>614</td>\n",
       "      <td>601</td>\n",
       "      <td>611</td>\n",
       "      <td>599</td>\n",
       "      <td>614</td>\n",
       "      <td>582</td>\n",
       "      <td>614</td>\n",
       "      <td>614</td>\n",
       "    </tr>\n",
       "    <tr>\n",
       "      <th>unique</th>\n",
       "      <td>614</td>\n",
       "      <td>2</td>\n",
       "      <td>2</td>\n",
       "      <td>4</td>\n",
       "      <td>2</td>\n",
       "      <td>2</td>\n",
       "      <td>3</td>\n",
       "      <td>2</td>\n",
       "    </tr>\n",
       "    <tr>\n",
       "      <th>top</th>\n",
       "      <td>LP001002</td>\n",
       "      <td>Male</td>\n",
       "      <td>Yes</td>\n",
       "      <td>0</td>\n",
       "      <td>Graduate</td>\n",
       "      <td>No</td>\n",
       "      <td>Semiurban</td>\n",
       "      <td>Y</td>\n",
       "    </tr>\n",
       "    <tr>\n",
       "      <th>freq</th>\n",
       "      <td>1</td>\n",
       "      <td>489</td>\n",
       "      <td>398</td>\n",
       "      <td>345</td>\n",
       "      <td>480</td>\n",
       "      <td>500</td>\n",
       "      <td>233</td>\n",
       "      <td>422</td>\n",
       "    </tr>\n",
       "  </tbody>\n",
       "</table>\n",
       "</div>"
      ],
      "text/plain": [
       "         Loan_ID Gender Married Dependents Education Self_Employed  \\\n",
       "count        614    601     611        599       614           582   \n",
       "unique       614      2       2          4         2             2   \n",
       "top     LP001002   Male     Yes          0  Graduate            No   \n",
       "freq           1    489     398        345       480           500   \n",
       "\n",
       "       Property_Area Loan_Status  \n",
       "count            614         614  \n",
       "unique             3           2  \n",
       "top        Semiurban           Y  \n",
       "freq             233         422  "
      ]
     },
     "execution_count": 11,
     "metadata": {},
     "output_type": "execute_result"
    }
   ],
   "source": [
    "LD.describe(include = object)"
   ]
  },
  {
   "cell_type": "code",
   "execution_count": 12,
   "id": "edb54e9f",
   "metadata": {},
   "outputs": [
    {
     "data": {
      "text/plain": [
       "Loan_ID               0\n",
       "Gender               13\n",
       "Married               3\n",
       "Dependents           15\n",
       "Education             0\n",
       "Self_Employed        32\n",
       "ApplicantIncome       0\n",
       "CoapplicantIncome     0\n",
       "LoanAmount           22\n",
       "Loan_Amount_Term     14\n",
       "Credit_History       50\n",
       "Property_Area         0\n",
       "Loan_Status           0\n",
       "dtype: int64"
      ]
     },
     "execution_count": 12,
     "metadata": {},
     "output_type": "execute_result"
    }
   ],
   "source": [
    "#Checking for null values if any\n",
    "LD.isnull().sum()"
   ]
  },
  {
   "cell_type": "code",
   "execution_count": 13,
   "id": "b7bbcbe0",
   "metadata": {},
   "outputs": [
    {
     "data": {
      "text/html": [
       "<div>\n",
       "<style scoped>\n",
       "    .dataframe tbody tr th:only-of-type {\n",
       "        vertical-align: middle;\n",
       "    }\n",
       "\n",
       "    .dataframe tbody tr th {\n",
       "        vertical-align: top;\n",
       "    }\n",
       "\n",
       "    .dataframe thead th {\n",
       "        text-align: right;\n",
       "    }\n",
       "</style>\n",
       "<table border=\"1\" class=\"dataframe\">\n",
       "  <thead>\n",
       "    <tr style=\"text-align: right;\">\n",
       "      <th></th>\n",
       "      <th>index</th>\n",
       "      <th>0</th>\n",
       "    </tr>\n",
       "  </thead>\n",
       "  <tbody>\n",
       "    <tr>\n",
       "      <th>0</th>\n",
       "      <td>Loan_ID</td>\n",
       "      <td>0</td>\n",
       "    </tr>\n",
       "    <tr>\n",
       "      <th>1</th>\n",
       "      <td>Gender</td>\n",
       "      <td>0</td>\n",
       "    </tr>\n",
       "    <tr>\n",
       "      <th>2</th>\n",
       "      <td>Married</td>\n",
       "      <td>0</td>\n",
       "    </tr>\n",
       "    <tr>\n",
       "      <th>3</th>\n",
       "      <td>Dependents</td>\n",
       "      <td>0</td>\n",
       "    </tr>\n",
       "    <tr>\n",
       "      <th>4</th>\n",
       "      <td>Education</td>\n",
       "      <td>0</td>\n",
       "    </tr>\n",
       "    <tr>\n",
       "      <th>5</th>\n",
       "      <td>Self_Employed</td>\n",
       "      <td>0</td>\n",
       "    </tr>\n",
       "    <tr>\n",
       "      <th>6</th>\n",
       "      <td>ApplicantIncome</td>\n",
       "      <td>0</td>\n",
       "    </tr>\n",
       "    <tr>\n",
       "      <th>7</th>\n",
       "      <td>CoapplicantIncome</td>\n",
       "      <td>0</td>\n",
       "    </tr>\n",
       "    <tr>\n",
       "      <th>8</th>\n",
       "      <td>LoanAmount</td>\n",
       "      <td>0</td>\n",
       "    </tr>\n",
       "    <tr>\n",
       "      <th>9</th>\n",
       "      <td>Loan_Amount_Term</td>\n",
       "      <td>0</td>\n",
       "    </tr>\n",
       "    <tr>\n",
       "      <th>10</th>\n",
       "      <td>Credit_History</td>\n",
       "      <td>0</td>\n",
       "    </tr>\n",
       "    <tr>\n",
       "      <th>11</th>\n",
       "      <td>Property_Area</td>\n",
       "      <td>0</td>\n",
       "    </tr>\n",
       "    <tr>\n",
       "      <th>12</th>\n",
       "      <td>Loan_Status</td>\n",
       "      <td>0</td>\n",
       "    </tr>\n",
       "  </tbody>\n",
       "</table>\n",
       "</div>"
      ],
      "text/plain": [
       "                index  0\n",
       "0             Loan_ID  0\n",
       "1              Gender  0\n",
       "2             Married  0\n",
       "3          Dependents  0\n",
       "4           Education  0\n",
       "5       Self_Employed  0\n",
       "6     ApplicantIncome  0\n",
       "7   CoapplicantIncome  0\n",
       "8          LoanAmount  0\n",
       "9    Loan_Amount_Term  0\n",
       "10     Credit_History  0\n",
       "11      Property_Area  0\n",
       "12        Loan_Status  0"
      ]
     },
     "execution_count": 13,
     "metadata": {},
     "output_type": "execute_result"
    }
   ],
   "source": [
    "#Filling null values\n",
    "LD[\"Gender\"].fillna(LD[\"Gender\"].mode()[0], inplace = True)\n",
    "LD[\"Married\"].fillna(LD[\"Married\"].mode()[0], inplace = True)\n",
    "LD[\"Dependents\"].fillna(LD[\"Dependents\"].mode()[0], inplace = True)\n",
    "LD[\"Self_Employed\"].fillna(LD[\"Self_Employed\"].mode()[0], inplace = True)\n",
    "\n",
    "LD[\"LoanAmount\"].fillna(LD[\"LoanAmount\"].mean(), inplace = True)\n",
    "LD[\"Loan_Amount_Term\"].fillna(LD[\"Loan_Amount_Term\"].mean(), inplace = True)\n",
    "LD[\"Credit_History\"].fillna(LD[\"Credit_History\"].mode()[0], inplace = True)\n",
    "\n",
    "LD.isnull().sum().reset_index()"
   ]
  },
  {
   "cell_type": "code",
   "execution_count": 14,
   "id": "7e59fbfb",
   "metadata": {},
   "outputs": [
    {
     "data": {
      "text/plain": [
       "Loan_ID                0\n",
       "Gender                 0\n",
       "Married                0\n",
       "Dependents             0\n",
       "Education              0\n",
       "Self_Employed          0\n",
       "ApplicantIncome        0\n",
       "CoapplicantIncome    0.0\n",
       "LoanAmount           0.0\n",
       "Loan_Amount_Term     0.0\n",
       "Credit_History       0.0\n",
       "Property_Area          0\n",
       "Loan_Status            0\n",
       "dtype: object"
      ]
     },
     "execution_count": 14,
     "metadata": {},
     "output_type": "execute_result"
    }
   ],
   "source": [
    "#Checking for duplicate values if any\n",
    "LD[LD.duplicated()].sum()"
   ]
  },
  {
   "cell_type": "markdown",
   "id": "23efdb1e",
   "metadata": {},
   "source": [
    "### Vizualization"
   ]
  },
  {
   "cell_type": "code",
   "execution_count": 16,
   "id": "0b347083",
   "metadata": {},
   "outputs": [
    {
     "name": "stdout",
     "output_type": "stream",
     "text": [
      "Gender\n",
      "Male      502\n",
      "Female    112\n",
      "Name: count, dtype: int64\n"
     ]
    },
    {
     "data": {
      "text/plain": [
       "<Axes: xlabel='Gender', ylabel='count'>"
      ]
     },
     "execution_count": 16,
     "metadata": {},
     "output_type": "execute_result"
    },
    {
     "data": {
      "image/png": "[encoded data removed]",
      "text/plain": [
       "<Figure size 640x480 with 1 Axes>"
      ]
     },
     "metadata": {},
     "output_type": "display_data"
    }
   ],
   "source": [
    "#Gender count\n",
    "print(LD[\"Gender\"].value_counts())\n",
    "sns.countplot(x = \"Gender\", data = LD, palette = \"Set2\")"
   ]
  },
  {
   "cell_type": "code",
   "execution_count": 17,
   "id": "ee1d0695",
   "metadata": {},
   "outputs": [
    {
     "name": "stdout",
     "output_type": "stream",
     "text": [
      "Married\n",
      "Yes    401\n",
      "No     213\n",
      "Name: count, dtype: int64\n"
     ]
    },
    {
     "data": {
      "text/plain": [
       "<Axes: xlabel='Married', ylabel='count'>"
      ]
     },
     "execution_count": 17,
     "metadata": {},
     "output_type": "execute_result"
    },
    {
     "data": {
      "image/png": "[encoded data removed]",
      "text/plain": [
       "<Figure size 640x480 with 1 Axes>"
      ]
     },
     "metadata": {},
     "output_type": "display_data"
    }
   ],
   "source": [
    "print(LD[\"Married\"].value_counts())\n",
    "sns.countplot(x = \"Married\", data = LD, palette = \"Set1\")"
   ]
  },
  {
   "cell_type": "code",
   "execution_count": 18,
   "id": "3d4b9bc3",
   "metadata": {},
   "outputs": [
    {
     "name": "stdout",
     "output_type": "stream",
     "text": [
      "Dependents\n",
      "0     360\n",
      "1     102\n",
      "2     101\n",
      "3+     51\n",
      "Name: count, dtype: int64\n"
     ]
    },
    {
     "data": {
      "text/plain": [
       "<Axes: xlabel='Dependents', ylabel='count'>"
      ]
     },
     "execution_count": 18,
     "metadata": {},
     "output_type": "execute_result"
    },
    {
     "data": {
      "image/png": "[encoded data removed]",
      "text/plain": [
       "<Figure size 640x480 with 1 Axes>"
      ]
     },
     "metadata": {},
     "output_type": "display_data"
    }
   ],
   "source": [
    "print(LD[\"Dependents\"].value_counts())\n",
    "sns.countplot(x = \"Dependents\", data = LD, palette = \"Set2\")"
   ]
  },
  {
   "cell_type": "code",
   "execution_count": 19,
   "id": "df5c2184",
   "metadata": {},
   "outputs": [
    {
     "name": "stdout",
     "output_type": "stream",
     "text": [
      "Education\n",
      "Graduate        480\n",
      "Not Graduate    134\n",
      "Name: count, dtype: int64\n"
     ]
    },
    {
     "data": {
      "text/plain": [
       "<Axes: xlabel='Education', ylabel='count'>"
      ]
     },
     "execution_count": 19,
     "metadata": {},
     "output_type": "execute_result"
    },
    {
     "data": {
      "image/png": "[encoded data removed]",
      "text/plain": [
       "<Figure size 640x480 with 1 Axes>"
      ]
     },
     "metadata": {},
     "output_type": "display_data"
    }
   ],
   "source": [
    "print(LD[\"Education\"].value_counts())\n",
    "sns.countplot(x = \"Education\", data = LD, palette = \"Set2\")"
   ]
  },
  {
   "cell_type": "code",
   "execution_count": 20,
   "id": "a0a1a272",
   "metadata": {},
   "outputs": [
    {
     "name": "stdout",
     "output_type": "stream",
     "text": [
      "Self_Employed\n",
      "No     532\n",
      "Yes     82\n",
      "Name: count, dtype: int64\n"
     ]
    },
    {
     "data": {
      "text/plain": [
       "<Axes: xlabel='Self_Employed', ylabel='count'>"
      ]
     },
     "execution_count": 20,
     "metadata": {},
     "output_type": "execute_result"
    },
    {
     "data": {
      "image/png": "[encoded data removed]",
      "text/plain": [
       "<Figure size 640x480 with 1 Axes>"
      ]
     },
     "metadata": {},
     "output_type": "display_data"
    }
   ],
   "source": [
    "print(LD[\"Self_Employed\"].value_counts())\n",
    "sns.countplot(x = \"Self_Employed\", data = LD, palette = \"Set1\")"
   ]
  },
  {
   "cell_type": "code",
   "execution_count": 21,
   "id": "bc8fb932",
   "metadata": {},
   "outputs": [
    {
     "name": "stdout",
     "output_type": "stream",
     "text": [
      "Property_Area\n",
      "Semiurban    233\n",
      "Urban        202\n",
      "Rural        179\n",
      "Name: count, dtype: int64\n"
     ]
    },
    {
     "data": {
      "text/plain": [
       "<Axes: xlabel='Property_Area', ylabel='count'>"
      ]
     },
     "execution_count": 21,
     "metadata": {},
     "output_type": "execute_result"
    },
    {
     "data": {
      "image/png": "[encoded data removed]",
      "text/plain": [
       "<Figure size 640x480 with 1 Axes>"
      ]
     },
     "metadata": {},
     "output_type": "display_data"
    }
   ],
   "source": [
    "print(LD[\"Property_Area\"].value_counts())\n",
    "sns.countplot(x = \"Property_Area\", data = LD, palette = \"Set2\")"
   ]
  },
  {
   "cell_type": "code",
   "execution_count": 22,
   "id": "1230eca3",
   "metadata": {},
   "outputs": [
    {
     "name": "stdout",
     "output_type": "stream",
     "text": [
      "Loan_Status\n",
      "Y    422\n",
      "N    192\n",
      "Name: count, dtype: int64\n"
     ]
    },
    {
     "data": {
      "text/plain": [
       "<Axes: xlabel='Loan_Status', ylabel='count'>"
      ]
     },
     "execution_count": 22,
     "metadata": {},
     "output_type": "execute_result"
    },
    {
     "data": {
      "image/png": "[encoded data removed]",
      "text/plain": [
       "<Figure size 640x480 with 1 Axes>"
      ]
     },
     "metadata": {},
     "output_type": "display_data"
    }
   ],
   "source": [
    "print(LD[\"Loan_Status\"].value_counts())\n",
    "sns.countplot(x = \"Loan_Status\", data = LD, palette = \"Set3\")"
   ]
  },
  {
   "cell_type": "code",
   "execution_count": 23,
   "id": "cd402d72",
   "metadata": {},
   "outputs": [
    {
     "name": "stdout",
     "output_type": "stream",
     "text": [
      "Credit_History\n",
      "1.0    525\n",
      "0.0     89\n",
      "Name: count, dtype: int64\n"
     ]
    },
    {
     "data": {
      "text/plain": [
       "<Axes: xlabel='Credit_History', ylabel='count'>"
      ]
     },
     "execution_count": 23,
     "metadata": {},
     "output_type": "execute_result"
    },
    {
     "data": {
      "image/png": "[encoded data removed]",
      "text/plain": [
       "<Figure size 640x480 with 1 Axes>"
      ]
     },
     "metadata": {},
     "output_type": "display_data"
    }
   ],
   "source": [
    "print(LD[\"Credit_History\"].value_counts())\n",
    "sns.countplot(x = \"Credit_History\", data = LD, palette = \"Set3\")"
   ]
  },
  {
   "cell_type": "markdown",
   "id": "32fe24df-2e14-44ef-a652-58127ecc7296",
   "metadata": {},
   "source": [
    "### Outlier Detection"
   ]
  },
  {
   "cell_type": "code",
   "execution_count": 25,
   "id": "817f80a5",
   "metadata": {},
   "outputs": [
    {
     "data": {
      "image/png": "[encoded data removed]",
      "text/plain": [
       "<Figure size 640x480 with 1 Axes>"
      ]
     },
     "metadata": {},
     "output_type": "display_data"
    }
   ],
   "source": [
    "plt.boxplot(LD[[\"ApplicantIncome\", \"CoapplicantIncome\", \"LoanAmount\"]])\n",
    "plt.show()"
   ]
  },
  {
   "cell_type": "code",
   "execution_count": 26,
   "id": "adc79d0a",
   "metadata": {},
   "outputs": [
    {
     "data": {
      "text/plain": [
       "Loan_ID              60\n",
       "Gender               60\n",
       "Married              60\n",
       "Dependents           60\n",
       "Education            60\n",
       "Self_Employed        60\n",
       "ApplicantIncome      60\n",
       "CoapplicantIncome    60\n",
       "LoanAmount           60\n",
       "Loan_Amount_Term     60\n",
       "Credit_History       60\n",
       "Property_Area        60\n",
       "Loan_Status          60\n",
       "dtype: int64"
      ]
     },
     "execution_count": 26,
     "metadata": {},
     "output_type": "execute_result"
    }
   ],
   "source": [
    "LD[(LD[\"ApplicantIncome\"] >= 10000) | (LD[\"CoapplicantIncome\"] >= 10000)].count()"
   ]
  },
  {
   "cell_type": "code",
   "execution_count": 27,
   "id": "63a3db88",
   "metadata": {},
   "outputs": [
    {
     "data": {
      "text/plain": [
       "Loan_ID              563\n",
       "Gender               563\n",
       "Married              563\n",
       "Dependents           563\n",
       "Education            563\n",
       "Self_Employed        563\n",
       "ApplicantIncome      563\n",
       "CoapplicantIncome    563\n",
       "LoanAmount           563\n",
       "Loan_Amount_Term     563\n",
       "Credit_History       563\n",
       "Property_Area        563\n",
       "Loan_Status          563\n",
       "dtype: int64"
      ]
     },
     "execution_count": 27,
     "metadata": {},
     "output_type": "execute_result"
    }
   ],
   "source": [
    "LD[(LD[\"ApplicantIncome\"] <= 10000) | (LD[\"CoapplicantIncome\"] >= 10000)].count()"
   ]
  },
  {
   "cell_type": "code",
   "execution_count": 28,
   "id": "8ca3a834",
   "metadata": {},
   "outputs": [
    {
     "name": "stdout",
     "output_type": "stream",
     "text": [
      "60\n",
      "<class 'pandas.core.frame.DataFrame'>\n",
      "RangeIndex: 554 entries, 0 to 553\n",
      "Data columns (total 13 columns):\n",
      " #   Column             Non-Null Count  Dtype  \n",
      "---  ------             --------------  -----  \n",
      " 0   Loan_ID            554 non-null    object \n",
      " 1   Gender             554 non-null    object \n",
      " 2   Married            554 non-null    object \n",
      " 3   Dependents         554 non-null    object \n",
      " 4   Education          554 non-null    object \n",
      " 5   Self_Employed      554 non-null    object \n",
      " 6   ApplicantIncome    554 non-null    int64  \n",
      " 7   CoapplicantIncome  554 non-null    float64\n",
      " 8   LoanAmount         554 non-null    float64\n",
      " 9   Loan_Amount_Term   554 non-null    float64\n",
      " 10  Credit_History     554 non-null    float64\n",
      " 11  Property_Area      554 non-null    object \n",
      " 12  Loan_Status        554 non-null    object \n",
      "dtypes: float64(4), int64(1), object(8)\n",
      "memory usage: 56.4+ KB\n"
     ]
    }
   ],
   "source": [
    "#Droping Outlier data from the dataset \n",
    "drop_rows = LD[(LD[\"ApplicantIncome\"] >= 10000) | (LD[\"CoapplicantIncome\"] >= 10000)].index\n",
    "print(len(drop_rows))\n",
    "LD = LD.drop(drop_rows).reset_index(drop=True)\n",
    "LD.info()"
   ]
  },
  {
   "cell_type": "code",
   "execution_count": 29,
   "id": "c12247e3",
   "metadata": {},
   "outputs": [
    {
     "data": {
      "image/png": "[encoded data removed]",
      "text/plain": [
       "<Figure size 640x480 with 1 Axes>"
      ]
     },
     "metadata": {},
     "output_type": "display_data"
    }
   ],
   "source": [
    "plt.boxplot(LD[[\"ApplicantIncome\", \"CoapplicantIncome\", \"LoanAmount\"]])\n",
    "plt.show()"
   ]
  },
  {
   "cell_type": "code",
   "execution_count": 30,
   "id": "78e476df",
   "metadata": {},
   "outputs": [
    {
     "data": {
      "text/html": [
       "<div>\n",
       "<style scoped>\n",
       "    .dataframe tbody tr th:only-of-type {\n",
       "        vertical-align: middle;\n",
       "    }\n",
       "\n",
       "    .dataframe tbody tr th {\n",
       "        vertical-align: top;\n",
       "    }\n",
       "\n",
       "    .dataframe thead th {\n",
       "        text-align: right;\n",
       "    }\n",
       "</style>\n",
       "<table border=\"1\" class=\"dataframe\">\n",
       "  <thead>\n",
       "    <tr style=\"text-align: right;\">\n",
       "      <th></th>\n",
       "      <th>Loan_ID</th>\n",
       "      <th>Gender</th>\n",
       "      <th>Married</th>\n",
       "      <th>Dependents</th>\n",
       "      <th>Education</th>\n",
       "      <th>Self_Employed</th>\n",
       "      <th>ApplicantIncome</th>\n",
       "      <th>CoapplicantIncome</th>\n",
       "      <th>LoanAmount</th>\n",
       "      <th>Loan_Amount_Term</th>\n",
       "      <th>Credit_History</th>\n",
       "      <th>Property_Area</th>\n",
       "      <th>Loan_Status</th>\n",
       "    </tr>\n",
       "  </thead>\n",
       "  <tbody>\n",
       "    <tr>\n",
       "      <th>0</th>\n",
       "      <td>LP001002</td>\n",
       "      <td>Male</td>\n",
       "      <td>No</td>\n",
       "      <td>0</td>\n",
       "      <td>Graduate</td>\n",
       "      <td>No</td>\n",
       "      <td>5849</td>\n",
       "      <td>0.0</td>\n",
       "      <td>146.412162</td>\n",
       "      <td>360.0</td>\n",
       "      <td>1.0</td>\n",
       "      <td>Urban</td>\n",
       "      <td>Y</td>\n",
       "    </tr>\n",
       "    <tr>\n",
       "      <th>1</th>\n",
       "      <td>LP001003</td>\n",
       "      <td>Male</td>\n",
       "      <td>Yes</td>\n",
       "      <td>1</td>\n",
       "      <td>Graduate</td>\n",
       "      <td>No</td>\n",
       "      <td>4583</td>\n",
       "      <td>1508.0</td>\n",
       "      <td>128.000000</td>\n",
       "      <td>360.0</td>\n",
       "      <td>1.0</td>\n",
       "      <td>Rural</td>\n",
       "      <td>N</td>\n",
       "    </tr>\n",
       "    <tr>\n",
       "      <th>2</th>\n",
       "      <td>LP001005</td>\n",
       "      <td>Male</td>\n",
       "      <td>Yes</td>\n",
       "      <td>0</td>\n",
       "      <td>Graduate</td>\n",
       "      <td>Yes</td>\n",
       "      <td>3000</td>\n",
       "      <td>0.0</td>\n",
       "      <td>66.000000</td>\n",
       "      <td>360.0</td>\n",
       "      <td>1.0</td>\n",
       "      <td>Urban</td>\n",
       "      <td>Y</td>\n",
       "    </tr>\n",
       "    <tr>\n",
       "      <th>3</th>\n",
       "      <td>LP001006</td>\n",
       "      <td>Male</td>\n",
       "      <td>Yes</td>\n",
       "      <td>0</td>\n",
       "      <td>Not Graduate</td>\n",
       "      <td>No</td>\n",
       "      <td>2583</td>\n",
       "      <td>2358.0</td>\n",
       "      <td>120.000000</td>\n",
       "      <td>360.0</td>\n",
       "      <td>1.0</td>\n",
       "      <td>Urban</td>\n",
       "      <td>Y</td>\n",
       "    </tr>\n",
       "    <tr>\n",
       "      <th>4</th>\n",
       "      <td>LP001008</td>\n",
       "      <td>Male</td>\n",
       "      <td>No</td>\n",
       "      <td>0</td>\n",
       "      <td>Graduate</td>\n",
       "      <td>No</td>\n",
       "      <td>6000</td>\n",
       "      <td>0.0</td>\n",
       "      <td>141.000000</td>\n",
       "      <td>360.0</td>\n",
       "      <td>1.0</td>\n",
       "      <td>Urban</td>\n",
       "      <td>Y</td>\n",
       "    </tr>\n",
       "    <tr>\n",
       "      <th>...</th>\n",
       "      <td>...</td>\n",
       "      <td>...</td>\n",
       "      <td>...</td>\n",
       "      <td>...</td>\n",
       "      <td>...</td>\n",
       "      <td>...</td>\n",
       "      <td>...</td>\n",
       "      <td>...</td>\n",
       "      <td>...</td>\n",
       "      <td>...</td>\n",
       "      <td>...</td>\n",
       "      <td>...</td>\n",
       "      <td>...</td>\n",
       "    </tr>\n",
       "    <tr>\n",
       "      <th>549</th>\n",
       "      <td>LP002978</td>\n",
       "      <td>Female</td>\n",
       "      <td>No</td>\n",
       "      <td>0</td>\n",
       "      <td>Graduate</td>\n",
       "      <td>No</td>\n",
       "      <td>2900</td>\n",
       "      <td>0.0</td>\n",
       "      <td>71.000000</td>\n",
       "      <td>360.0</td>\n",
       "      <td>1.0</td>\n",
       "      <td>Rural</td>\n",
       "      <td>Y</td>\n",
       "    </tr>\n",
       "    <tr>\n",
       "      <th>550</th>\n",
       "      <td>LP002979</td>\n",
       "      <td>Male</td>\n",
       "      <td>Yes</td>\n",
       "      <td>3+</td>\n",
       "      <td>Graduate</td>\n",
       "      <td>No</td>\n",
       "      <td>4106</td>\n",
       "      <td>0.0</td>\n",
       "      <td>40.000000</td>\n",
       "      <td>180.0</td>\n",
       "      <td>1.0</td>\n",
       "      <td>Rural</td>\n",
       "      <td>Y</td>\n",
       "    </tr>\n",
       "    <tr>\n",
       "      <th>551</th>\n",
       "      <td>LP002983</td>\n",
       "      <td>Male</td>\n",
       "      <td>Yes</td>\n",
       "      <td>1</td>\n",
       "      <td>Graduate</td>\n",
       "      <td>No</td>\n",
       "      <td>8072</td>\n",
       "      <td>240.0</td>\n",
       "      <td>253.000000</td>\n",
       "      <td>360.0</td>\n",
       "      <td>1.0</td>\n",
       "      <td>Urban</td>\n",
       "      <td>Y</td>\n",
       "    </tr>\n",
       "    <tr>\n",
       "      <th>552</th>\n",
       "      <td>LP002984</td>\n",
       "      <td>Male</td>\n",
       "      <td>Yes</td>\n",
       "      <td>2</td>\n",
       "      <td>Graduate</td>\n",
       "      <td>No</td>\n",
       "      <td>7583</td>\n",
       "      <td>0.0</td>\n",
       "      <td>187.000000</td>\n",
       "      <td>360.0</td>\n",
       "      <td>1.0</td>\n",
       "      <td>Urban</td>\n",
       "      <td>Y</td>\n",
       "    </tr>\n",
       "    <tr>\n",
       "      <th>553</th>\n",
       "      <td>LP002990</td>\n",
       "      <td>Female</td>\n",
       "      <td>No</td>\n",
       "      <td>0</td>\n",
       "      <td>Graduate</td>\n",
       "      <td>Yes</td>\n",
       "      <td>4583</td>\n",
       "      <td>0.0</td>\n",
       "      <td>133.000000</td>\n",
       "      <td>360.0</td>\n",
       "      <td>0.0</td>\n",
       "      <td>Semiurban</td>\n",
       "      <td>N</td>\n",
       "    </tr>\n",
       "  </tbody>\n",
       "</table>\n",
       "<p>554 rows × 13 columns</p>\n",
       "</div>"
      ],
      "text/plain": [
       "      Loan_ID  Gender Married Dependents     Education Self_Employed  \\\n",
       "0    LP001002    Male      No          0      Graduate            No   \n",
       "1    LP001003    Male     Yes          1      Graduate            No   \n",
       "2    LP001005    Male     Yes          0      Graduate           Yes   \n",
       "3    LP001006    Male     Yes          0  Not Graduate            No   \n",
       "4    LP001008    Male      No          0      Graduate            No   \n",
       "..        ...     ...     ...        ...           ...           ...   \n",
       "549  LP002978  Female      No          0      Graduate            No   \n",
       "550  LP002979    Male     Yes         3+      Graduate            No   \n",
       "551  LP002983    Male     Yes          1      Graduate            No   \n",
       "552  LP002984    Male     Yes          2      Graduate            No   \n",
       "553  LP002990  Female      No          0      Graduate           Yes   \n",
       "\n",
       "     ApplicantIncome  CoapplicantIncome  LoanAmount  Loan_Amount_Term  \\\n",
       "0               5849                0.0  146.412162             360.0   \n",
       "1               4583             1508.0  128.000000             360.0   \n",
       "2               3000                0.0   66.000000             360.0   \n",
       "3               2583             2358.0  120.000000             360.0   \n",
       "4               6000                0.0  141.000000             360.0   \n",
       "..               ...                ...         ...               ...   \n",
       "549             2900                0.0   71.000000             360.0   \n",
       "550             4106                0.0   40.000000             180.0   \n",
       "551             8072              240.0  253.000000             360.0   \n",
       "552             7583                0.0  187.000000             360.0   \n",
       "553             4583                0.0  133.000000             360.0   \n",
       "\n",
       "     Credit_History Property_Area Loan_Status  \n",
       "0               1.0         Urban           Y  \n",
       "1               1.0         Rural           N  \n",
       "2               1.0         Urban           Y  \n",
       "3               1.0         Urban           Y  \n",
       "4               1.0         Urban           Y  \n",
       "..              ...           ...         ...  \n",
       "549             1.0         Rural           Y  \n",
       "550             1.0         Rural           Y  \n",
       "551             1.0         Urban           Y  \n",
       "552             1.0         Urban           Y  \n",
       "553             0.0     Semiurban           N  \n",
       "\n",
       "[554 rows x 13 columns]"
      ]
     },
     "execution_count": 30,
     "metadata": {},
     "output_type": "execute_result"
    }
   ],
   "source": [
    "LD[(LD[\"ApplicantIncome\"] <= 10000) | (LD[\"CoapplicantIncome\"] >= 10000)]"
   ]
  },
  {
   "cell_type": "code",
   "execution_count": 31,
   "id": "e6ba17cc",
   "metadata": {},
   "outputs": [
    {
     "data": {
      "text/plain": [
       "Index(['Loan_ID', 'Gender', 'Married', 'Dependents', 'Education',\n",
       "       'Self_Employed', 'Property_Area', 'Loan_Status'],\n",
       "      dtype='object')"
      ]
     },
     "execution_count": 31,
     "metadata": {},
     "output_type": "execute_result"
    }
   ],
   "source": [
    "obj_col = LD.select_dtypes(include = [\"object\"]).columns\n",
    "obj_col"
   ]
  },
  {
   "cell_type": "markdown",
   "id": "baaf8ae6-5939-4977-803e-5163d61302f2",
   "metadata": {},
   "source": [
    "### Converting object data to numeric data using \"LabelEncoders\""
   ]
  },
  {
   "cell_type": "code",
   "execution_count": 33,
   "id": "67fb7e23",
   "metadata": {
    "scrolled": true
   },
   "outputs": [
    {
     "data": {
      "text/plain": [
       "{'Loan_ID': LabelEncoder(),\n",
       " 'Gender': LabelEncoder(),\n",
       " 'Married': LabelEncoder(),\n",
       " 'Dependents': LabelEncoder(),\n",
       " 'Education': LabelEncoder(),\n",
       " 'Self_Employed': LabelEncoder(),\n",
       " 'Property_Area': LabelEncoder(),\n",
       " 'Loan_Status': LabelEncoder()}"
      ]
     },
     "execution_count": 33,
     "metadata": {},
     "output_type": "execute_result"
    }
   ],
   "source": [
    "#Preprocess the object data to numerical value\n",
    "from sklearn.preprocessing import LabelEncoder\n",
    "\n",
    "label_encoders = {col: LabelEncoder() for col in obj_col}\n",
    "label_encoders"
   ]
  },
  {
   "cell_type": "code",
   "execution_count": 34,
   "id": "9b1cead9",
   "metadata": {},
   "outputs": [
    {
     "name": "stdout",
     "output_type": "stream",
     "text": [
      "<class 'pandas.core.frame.DataFrame'>\n",
      "RangeIndex: 554 entries, 0 to 553\n",
      "Data columns (total 13 columns):\n",
      " #   Column             Non-Null Count  Dtype  \n",
      "---  ------             --------------  -----  \n",
      " 0   Loan_ID            554 non-null    int32  \n",
      " 1   Gender             554 non-null    int32  \n",
      " 2   Married            554 non-null    int32  \n",
      " 3   Dependents         554 non-null    int32  \n",
      " 4   Education          554 non-null    int32  \n",
      " 5   Self_Employed      554 non-null    int32  \n",
      " 6   ApplicantIncome    554 non-null    int64  \n",
      " 7   CoapplicantIncome  554 non-null    float64\n",
      " 8   LoanAmount         554 non-null    float64\n",
      " 9   Loan_Amount_Term   554 non-null    float64\n",
      " 10  Credit_History     554 non-null    float64\n",
      " 11  Property_Area      554 non-null    int32  \n",
      " 12  Loan_Status        554 non-null    int32  \n",
      "dtypes: float64(4), int32(8), int64(1)\n",
      "memory usage: 39.1 KB\n"
     ]
    }
   ],
   "source": [
    "#Fit_Transform Object data to numeric values\n",
    "for col in obj_col:\n",
    "    LD[col] = label_encoders[col].fit_transform(LD[col])\n",
    "LD.info()"
   ]
  },
  {
   "cell_type": "code",
   "execution_count": 114,
   "id": "dc33e4b3",
   "metadata": {},
   "outputs": [
    {
     "data": {
      "text/html": [
       "<div>\n",
       "<style scoped>\n",
       "    .dataframe tbody tr th:only-of-type {\n",
       "        vertical-align: middle;\n",
       "    }\n",
       "\n",
       "    .dataframe tbody tr th {\n",
       "        vertical-align: top;\n",
       "    }\n",
       "\n",
       "    .dataframe thead th {\n",
       "        text-align: right;\n",
       "    }\n",
       "</style>\n",
       "<table border=\"1\" class=\"dataframe\">\n",
       "  <thead>\n",
       "    <tr style=\"text-align: right;\">\n",
       "      <th></th>\n",
       "      <th>Loan_ID</th>\n",
       "      <th>Gender</th>\n",
       "      <th>Married</th>\n",
       "      <th>Dependents</th>\n",
       "      <th>Education</th>\n",
       "      <th>Self_Employed</th>\n",
       "      <th>ApplicantIncome</th>\n",
       "      <th>CoapplicantIncome</th>\n",
       "      <th>LoanAmount</th>\n",
       "      <th>Loan_Amount_Term</th>\n",
       "      <th>Credit_History</th>\n",
       "      <th>Property_Area</th>\n",
       "      <th>Loan_Status</th>\n",
       "    </tr>\n",
       "  </thead>\n",
       "  <tbody>\n",
       "    <tr>\n",
       "      <th>Loan_ID</th>\n",
       "      <td>1.000000</td>\n",
       "      <td>-0.015600</td>\n",
       "      <td>-0.012167</td>\n",
       "      <td>0.063985</td>\n",
       "      <td>0.038071</td>\n",
       "      <td>0.004025</td>\n",
       "      <td>0.032477</td>\n",
       "      <td>-0.039371</td>\n",
       "      <td>0.050636</td>\n",
       "      <td>-0.040446</td>\n",
       "      <td>-0.058380</td>\n",
       "      <td>-0.175915</td>\n",
       "      <td>-0.007415</td>\n",
       "    </tr>\n",
       "    <tr>\n",
       "      <th>Gender</th>\n",
       "      <td>-0.015600</td>\n",
       "      <td>1.000000</td>\n",
       "      <td>0.373166</td>\n",
       "      <td>0.183605</td>\n",
       "      <td>0.061807</td>\n",
       "      <td>0.021179</td>\n",
       "      <td>0.121917</td>\n",
       "      <td>0.187119</td>\n",
       "      <td>0.168561</td>\n",
       "      <td>-0.085442</td>\n",
       "      <td>0.020340</td>\n",
       "      <td>-0.011099</td>\n",
       "      <td>0.030529</td>\n",
       "    </tr>\n",
       "    <tr>\n",
       "      <th>Married</th>\n",
       "      <td>-0.012167</td>\n",
       "      <td>0.373166</td>\n",
       "      <td>1.000000</td>\n",
       "      <td>0.336138</td>\n",
       "      <td>0.024461</td>\n",
       "      <td>0.014008</td>\n",
       "      <td>0.010409</td>\n",
       "      <td>0.238906</td>\n",
       "      <td>0.181865</td>\n",
       "      <td>-0.090982</td>\n",
       "      <td>0.009961</td>\n",
       "      <td>0.015211</td>\n",
       "      <td>0.072421</td>\n",
       "    </tr>\n",
       "    <tr>\n",
       "      <th>Dependents</th>\n",
       "      <td>0.063985</td>\n",
       "      <td>0.183605</td>\n",
       "      <td>0.336138</td>\n",
       "      <td>1.000000</td>\n",
       "      <td>0.077443</td>\n",
       "      <td>0.071161</td>\n",
       "      <td>0.136897</td>\n",
       "      <td>-0.035070</td>\n",
       "      <td>0.130644</td>\n",
       "      <td>-0.085911</td>\n",
       "      <td>-0.026778</td>\n",
       "      <td>0.012169</td>\n",
       "      <td>0.011451</td>\n",
       "    </tr>\n",
       "    <tr>\n",
       "      <th>Education</th>\n",
       "      <td>0.038071</td>\n",
       "      <td>0.061807</td>\n",
       "      <td>0.024461</td>\n",
       "      <td>0.077443</td>\n",
       "      <td>1.000000</td>\n",
       "      <td>-0.003302</td>\n",
       "      <td>-0.157979</td>\n",
       "      <td>-0.064819</td>\n",
       "      <td>-0.137692</td>\n",
       "      <td>-0.085515</td>\n",
       "      <td>-0.080351</td>\n",
       "      <td>-0.063790</td>\n",
       "      <td>-0.110345</td>\n",
       "    </tr>\n",
       "    <tr>\n",
       "      <th>Self_Employed</th>\n",
       "      <td>0.004025</td>\n",
       "      <td>0.021179</td>\n",
       "      <td>0.014008</td>\n",
       "      <td>0.071161</td>\n",
       "      <td>-0.003302</td>\n",
       "      <td>1.000000</td>\n",
       "      <td>0.200314</td>\n",
       "      <td>-0.014006</td>\n",
       "      <td>0.134519</td>\n",
       "      <td>-0.063230</td>\n",
       "      <td>0.021695</td>\n",
       "      <td>-0.067289</td>\n",
       "      <td>0.005012</td>\n",
       "    </tr>\n",
       "    <tr>\n",
       "      <th>ApplicantIncome</th>\n",
       "      <td>0.032477</td>\n",
       "      <td>0.121917</td>\n",
       "      <td>0.010409</td>\n",
       "      <td>0.136897</td>\n",
       "      <td>-0.157979</td>\n",
       "      <td>0.200314</td>\n",
       "      <td>1.000000</td>\n",
       "      <td>-0.151652</td>\n",
       "      <td>0.509110</td>\n",
       "      <td>-0.043905</td>\n",
       "      <td>0.043714</td>\n",
       "      <td>-0.077925</td>\n",
       "      <td>0.025814</td>\n",
       "    </tr>\n",
       "    <tr>\n",
       "      <th>CoapplicantIncome</th>\n",
       "      <td>-0.039371</td>\n",
       "      <td>0.187119</td>\n",
       "      <td>0.238906</td>\n",
       "      <td>-0.035070</td>\n",
       "      <td>-0.064819</td>\n",
       "      <td>-0.014006</td>\n",
       "      <td>-0.151652</td>\n",
       "      <td>1.000000</td>\n",
       "      <td>0.403963</td>\n",
       "      <td>-0.030355</td>\n",
       "      <td>-0.004060</td>\n",
       "      <td>-0.081477</td>\n",
       "      <td>0.055050</td>\n",
       "    </tr>\n",
       "    <tr>\n",
       "      <th>LoanAmount</th>\n",
       "      <td>0.050636</td>\n",
       "      <td>0.168561</td>\n",
       "      <td>0.181865</td>\n",
       "      <td>0.130644</td>\n",
       "      <td>-0.137692</td>\n",
       "      <td>0.134519</td>\n",
       "      <td>0.509110</td>\n",
       "      <td>0.403963</td>\n",
       "      <td>1.000000</td>\n",
       "      <td>0.081478</td>\n",
       "      <td>0.018927</td>\n",
       "      <td>-0.104906</td>\n",
       "      <td>-0.010146</td>\n",
       "    </tr>\n",
       "    <tr>\n",
       "      <th>Loan_Amount_Term</th>\n",
       "      <td>-0.040446</td>\n",
       "      <td>-0.085442</td>\n",
       "      <td>-0.090982</td>\n",
       "      <td>-0.085911</td>\n",
       "      <td>-0.085515</td>\n",
       "      <td>-0.063230</td>\n",
       "      <td>-0.043905</td>\n",
       "      <td>-0.030355</td>\n",
       "      <td>0.081478</td>\n",
       "      <td>1.000000</td>\n",
       "      <td>-0.015835</td>\n",
       "      <td>-0.075230</td>\n",
       "      <td>-0.017772</td>\n",
       "    </tr>\n",
       "    <tr>\n",
       "      <th>Credit_History</th>\n",
       "      <td>-0.058380</td>\n",
       "      <td>0.020340</td>\n",
       "      <td>0.009961</td>\n",
       "      <td>-0.026778</td>\n",
       "      <td>-0.080351</td>\n",
       "      <td>0.021695</td>\n",
       "      <td>0.043714</td>\n",
       "      <td>-0.004060</td>\n",
       "      <td>0.018927</td>\n",
       "      <td>-0.015835</td>\n",
       "      <td>1.000000</td>\n",
       "      <td>0.011380</td>\n",
       "      <td>0.560578</td>\n",
       "    </tr>\n",
       "    <tr>\n",
       "      <th>Property_Area</th>\n",
       "      <td>-0.175915</td>\n",
       "      <td>-0.011099</td>\n",
       "      <td>0.015211</td>\n",
       "      <td>0.012169</td>\n",
       "      <td>-0.063790</td>\n",
       "      <td>-0.067289</td>\n",
       "      <td>-0.077925</td>\n",
       "      <td>-0.081477</td>\n",
       "      <td>-0.104906</td>\n",
       "      <td>-0.075230</td>\n",
       "      <td>0.011380</td>\n",
       "      <td>1.000000</td>\n",
       "      <td>0.023127</td>\n",
       "    </tr>\n",
       "    <tr>\n",
       "      <th>Loan_Status</th>\n",
       "      <td>-0.007415</td>\n",
       "      <td>0.030529</td>\n",
       "      <td>0.072421</td>\n",
       "      <td>0.011451</td>\n",
       "      <td>-0.110345</td>\n",
       "      <td>0.005012</td>\n",
       "      <td>0.025814</td>\n",
       "      <td>0.055050</td>\n",
       "      <td>-0.010146</td>\n",
       "      <td>-0.017772</td>\n",
       "      <td>0.560578</td>\n",
       "      <td>0.023127</td>\n",
       "      <td>1.000000</td>\n",
       "    </tr>\n",
       "  </tbody>\n",
       "</table>\n",
       "</div>"
      ],
      "text/plain": [
       "                    Loan_ID    Gender   Married  Dependents  Education  \\\n",
       "Loan_ID            1.000000 -0.015600 -0.012167    0.063985   0.038071   \n",
       "Gender            -0.015600  1.000000  0.373166    0.183605   0.061807   \n",
       "Married           -0.012167  0.373166  1.000000    0.336138   0.024461   \n",
       "Dependents         0.063985  0.183605  0.336138    1.000000   0.077443   \n",
       "Education          0.038071  0.061807  0.024461    0.077443   1.000000   \n",
       "Self_Employed      0.004025  0.021179  0.014008    0.071161  -0.003302   \n",
       "ApplicantIncome    0.032477  0.121917  0.010409    0.136897  -0.157979   \n",
       "CoapplicantIncome -0.039371  0.187119  0.238906   -0.035070  -0.064819   \n",
       "LoanAmount         0.050636  0.168561  0.181865    0.130644  -0.137692   \n",
       "Loan_Amount_Term  -0.040446 -0.085442 -0.090982   -0.085911  -0.085515   \n",
       "Credit_History    -0.058380  0.020340  0.009961   -0.026778  -0.080351   \n",
       "Property_Area     -0.175915 -0.011099  0.015211    0.012169  -0.063790   \n",
       "Loan_Status       -0.007415  0.030529  0.072421    0.011451  -0.110345   \n",
       "\n",
       "                   Self_Employed  ApplicantIncome  CoapplicantIncome  \\\n",
       "Loan_ID                 0.004025         0.032477          -0.039371   \n",
       "Gender                  0.021179         0.121917           0.187119   \n",
       "Married                 0.014008         0.010409           0.238906   \n",
       "Dependents              0.071161         0.136897          -0.035070   \n",
       "Education              -0.003302        -0.157979          -0.064819   \n",
       "Self_Employed           1.000000         0.200314          -0.014006   \n",
       "ApplicantIncome         0.200314         1.000000          -0.151652   \n",
       "CoapplicantIncome      -0.014006        -0.151652           1.000000   \n",
       "LoanAmount              0.134519         0.509110           0.403963   \n",
       "Loan_Amount_Term       -0.063230        -0.043905          -0.030355   \n",
       "Credit_History          0.021695         0.043714          -0.004060   \n",
       "Property_Area          -0.067289        -0.077925          -0.081477   \n",
       "Loan_Status             0.005012         0.025814           0.055050   \n",
       "\n",
       "                   LoanAmount  Loan_Amount_Term  Credit_History  \\\n",
       "Loan_ID              0.050636         -0.040446       -0.058380   \n",
       "Gender               0.168561         -0.085442        0.020340   \n",
       "Married              0.181865         -0.090982        0.009961   \n",
       "Dependents           0.130644         -0.085911       -0.026778   \n",
       "Education           -0.137692         -0.085515       -0.080351   \n",
       "Self_Employed        0.134519         -0.063230        0.021695   \n",
       "ApplicantIncome      0.509110         -0.043905        0.043714   \n",
       "CoapplicantIncome    0.403963         -0.030355       -0.004060   \n",
       "LoanAmount           1.000000          0.081478        0.018927   \n",
       "Loan_Amount_Term     0.081478          1.000000       -0.015835   \n",
       "Credit_History       0.018927         -0.015835        1.000000   \n",
       "Property_Area       -0.104906         -0.075230        0.011380   \n",
       "Loan_Status         -0.010146         -0.017772        0.560578   \n",
       "\n",
       "                   Property_Area  Loan_Status  \n",
       "Loan_ID                -0.175915    -0.007415  \n",
       "Gender                 -0.011099     0.030529  \n",
       "Married                 0.015211     0.072421  \n",
       "Dependents              0.012169     0.011451  \n",
       "Education              -0.063790    -0.110345  \n",
       "Self_Employed          -0.067289     0.005012  \n",
       "ApplicantIncome        -0.077925     0.025814  \n",
       "CoapplicantIncome      -0.081477     0.055050  \n",
       "LoanAmount             -0.104906    -0.010146  \n",
       "Loan_Amount_Term       -0.075230    -0.017772  \n",
       "Credit_History          0.011380     0.560578  \n",
       "Property_Area           1.000000     0.023127  \n",
       "Loan_Status             0.023127     1.000000  "
      ]
     },
     "execution_count": 114,
     "metadata": {},
     "output_type": "execute_result"
    }
   ],
   "source": [
    "correlation = LD.corr()\n",
    "correlation"
   ]
  },
  {
   "cell_type": "code",
   "execution_count": 118,
   "id": "62abd05f-efe4-4061-8eb8-1ba1f7b1fed6",
   "metadata": {},
   "outputs": [
    {
     "data": {
      "text/plain": [
       "<Axes: >"
      ]
     },
     "execution_count": 118,
     "metadata": {},
     "output_type": "execute_result"
    },
    {
     "data": {
      "image/png": "[encoded data removed]",
      "text/plain": [
       "<Figure size 1000x1000 with 2 Axes>"
      ]
     },
     "metadata": {},
     "output_type": "display_data"
    }
   ],
   "source": [
    "plt.figure(figsize = (10, 10))\n",
    "sns.heatmap(correlation, cbar = True, square = True, cmap = \"Blues\")"
   ]
  },
  {
   "cell_type": "markdown",
   "id": "1b23ec16-d5c4-41d6-bd8f-c94781967474",
   "metadata": {},
   "source": [
    "### Spliting Data "
   ]
  },
  {
   "cell_type": "code",
   "execution_count": 37,
   "id": "f4c14de6",
   "metadata": {},
   "outputs": [
    {
     "data": {
      "text/html": [
       "<div>\n",
       "<style scoped>\n",
       "    .dataframe tbody tr th:only-of-type {\n",
       "        vertical-align: middle;\n",
       "    }\n",
       "\n",
       "    .dataframe tbody tr th {\n",
       "        vertical-align: top;\n",
       "    }\n",
       "\n",
       "    .dataframe thead th {\n",
       "        text-align: right;\n",
       "    }\n",
       "</style>\n",
       "<table border=\"1\" class=\"dataframe\">\n",
       "  <thead>\n",
       "    <tr style=\"text-align: right;\">\n",
       "      <th></th>\n",
       "      <th>Loan_ID</th>\n",
       "      <th>Gender</th>\n",
       "      <th>Married</th>\n",
       "      <th>Dependents</th>\n",
       "      <th>Education</th>\n",
       "      <th>Self_Employed</th>\n",
       "      <th>ApplicantIncome</th>\n",
       "      <th>CoapplicantIncome</th>\n",
       "      <th>LoanAmount</th>\n",
       "      <th>Loan_Amount_Term</th>\n",
       "      <th>Credit_History</th>\n",
       "      <th>Property_Area</th>\n",
       "      <th>Loan_Status</th>\n",
       "    </tr>\n",
       "  </thead>\n",
       "  <tbody>\n",
       "    <tr>\n",
       "      <th>0</th>\n",
       "      <td>0</td>\n",
       "      <td>1</td>\n",
       "      <td>0</td>\n",
       "      <td>0</td>\n",
       "      <td>0</td>\n",
       "      <td>0</td>\n",
       "      <td>5849</td>\n",
       "      <td>0.0</td>\n",
       "      <td>146.412162</td>\n",
       "      <td>360.0</td>\n",
       "      <td>1.0</td>\n",
       "      <td>2</td>\n",
       "      <td>1</td>\n",
       "    </tr>\n",
       "    <tr>\n",
       "      <th>1</th>\n",
       "      <td>1</td>\n",
       "      <td>1</td>\n",
       "      <td>1</td>\n",
       "      <td>1</td>\n",
       "      <td>0</td>\n",
       "      <td>0</td>\n",
       "      <td>4583</td>\n",
       "      <td>1508.0</td>\n",
       "      <td>128.000000</td>\n",
       "      <td>360.0</td>\n",
       "      <td>1.0</td>\n",
       "      <td>0</td>\n",
       "      <td>0</td>\n",
       "    </tr>\n",
       "    <tr>\n",
       "      <th>2</th>\n",
       "      <td>2</td>\n",
       "      <td>1</td>\n",
       "      <td>1</td>\n",
       "      <td>0</td>\n",
       "      <td>0</td>\n",
       "      <td>1</td>\n",
       "      <td>3000</td>\n",
       "      <td>0.0</td>\n",
       "      <td>66.000000</td>\n",
       "      <td>360.0</td>\n",
       "      <td>1.0</td>\n",
       "      <td>2</td>\n",
       "      <td>1</td>\n",
       "    </tr>\n",
       "    <tr>\n",
       "      <th>3</th>\n",
       "      <td>3</td>\n",
       "      <td>1</td>\n",
       "      <td>1</td>\n",
       "      <td>0</td>\n",
       "      <td>1</td>\n",
       "      <td>0</td>\n",
       "      <td>2583</td>\n",
       "      <td>2358.0</td>\n",
       "      <td>120.000000</td>\n",
       "      <td>360.0</td>\n",
       "      <td>1.0</td>\n",
       "      <td>2</td>\n",
       "      <td>1</td>\n",
       "    </tr>\n",
       "    <tr>\n",
       "      <th>4</th>\n",
       "      <td>4</td>\n",
       "      <td>1</td>\n",
       "      <td>0</td>\n",
       "      <td>0</td>\n",
       "      <td>0</td>\n",
       "      <td>0</td>\n",
       "      <td>6000</td>\n",
       "      <td>0.0</td>\n",
       "      <td>141.000000</td>\n",
       "      <td>360.0</td>\n",
       "      <td>1.0</td>\n",
       "      <td>2</td>\n",
       "      <td>1</td>\n",
       "    </tr>\n",
       "    <tr>\n",
       "      <th>...</th>\n",
       "      <td>...</td>\n",
       "      <td>...</td>\n",
       "      <td>...</td>\n",
       "      <td>...</td>\n",
       "      <td>...</td>\n",
       "      <td>...</td>\n",
       "      <td>...</td>\n",
       "      <td>...</td>\n",
       "      <td>...</td>\n",
       "      <td>...</td>\n",
       "      <td>...</td>\n",
       "      <td>...</td>\n",
       "      <td>...</td>\n",
       "    </tr>\n",
       "    <tr>\n",
       "      <th>549</th>\n",
       "      <td>549</td>\n",
       "      <td>0</td>\n",
       "      <td>0</td>\n",
       "      <td>0</td>\n",
       "      <td>0</td>\n",
       "      <td>0</td>\n",
       "      <td>2900</td>\n",
       "      <td>0.0</td>\n",
       "      <td>71.000000</td>\n",
       "      <td>360.0</td>\n",
       "      <td>1.0</td>\n",
       "      <td>0</td>\n",
       "      <td>1</td>\n",
       "    </tr>\n",
       "    <tr>\n",
       "      <th>550</th>\n",
       "      <td>550</td>\n",
       "      <td>1</td>\n",
       "      <td>1</td>\n",
       "      <td>3</td>\n",
       "      <td>0</td>\n",
       "      <td>0</td>\n",
       "      <td>4106</td>\n",
       "      <td>0.0</td>\n",
       "      <td>40.000000</td>\n",
       "      <td>180.0</td>\n",
       "      <td>1.0</td>\n",
       "      <td>0</td>\n",
       "      <td>1</td>\n",
       "    </tr>\n",
       "    <tr>\n",
       "      <th>551</th>\n",
       "      <td>551</td>\n",
       "      <td>1</td>\n",
       "      <td>1</td>\n",
       "      <td>1</td>\n",
       "      <td>0</td>\n",
       "      <td>0</td>\n",
       "      <td>8072</td>\n",
       "      <td>240.0</td>\n",
       "      <td>253.000000</td>\n",
       "      <td>360.0</td>\n",
       "      <td>1.0</td>\n",
       "      <td>2</td>\n",
       "      <td>1</td>\n",
       "    </tr>\n",
       "    <tr>\n",
       "      <th>552</th>\n",
       "      <td>552</td>\n",
       "      <td>1</td>\n",
       "      <td>1</td>\n",
       "      <td>2</td>\n",
       "      <td>0</td>\n",
       "      <td>0</td>\n",
       "      <td>7583</td>\n",
       "      <td>0.0</td>\n",
       "      <td>187.000000</td>\n",
       "      <td>360.0</td>\n",
       "      <td>1.0</td>\n",
       "      <td>2</td>\n",
       "      <td>1</td>\n",
       "    </tr>\n",
       "    <tr>\n",
       "      <th>553</th>\n",
       "      <td>553</td>\n",
       "      <td>0</td>\n",
       "      <td>0</td>\n",
       "      <td>0</td>\n",
       "      <td>0</td>\n",
       "      <td>1</td>\n",
       "      <td>4583</td>\n",
       "      <td>0.0</td>\n",
       "      <td>133.000000</td>\n",
       "      <td>360.0</td>\n",
       "      <td>0.0</td>\n",
       "      <td>1</td>\n",
       "      <td>0</td>\n",
       "    </tr>\n",
       "  </tbody>\n",
       "</table>\n",
       "<p>554 rows × 13 columns</p>\n",
       "</div>"
      ],
      "text/plain": [
       "     Loan_ID  Gender  Married  Dependents  Education  Self_Employed  \\\n",
       "0          0       1        0           0          0              0   \n",
       "1          1       1        1           1          0              0   \n",
       "2          2       1        1           0          0              1   \n",
       "3          3       1        1           0          1              0   \n",
       "4          4       1        0           0          0              0   \n",
       "..       ...     ...      ...         ...        ...            ...   \n",
       "549      549       0        0           0          0              0   \n",
       "550      550       1        1           3          0              0   \n",
       "551      551       1        1           1          0              0   \n",
       "552      552       1        1           2          0              0   \n",
       "553      553       0        0           0          0              1   \n",
       "\n",
       "     ApplicantIncome  CoapplicantIncome  LoanAmount  Loan_Amount_Term  \\\n",
       "0               5849                0.0  146.412162             360.0   \n",
       "1               4583             1508.0  128.000000             360.0   \n",
       "2               3000                0.0   66.000000             360.0   \n",
       "3               2583             2358.0  120.000000             360.0   \n",
       "4               6000                0.0  141.000000             360.0   \n",
       "..               ...                ...         ...               ...   \n",
       "549             2900                0.0   71.000000             360.0   \n",
       "550             4106                0.0   40.000000             180.0   \n",
       "551             8072              240.0  253.000000             360.0   \n",
       "552             7583                0.0  187.000000             360.0   \n",
       "553             4583                0.0  133.000000             360.0   \n",
       "\n",
       "     Credit_History  Property_Area  Loan_Status  \n",
       "0               1.0              2            1  \n",
       "1               1.0              0            0  \n",
       "2               1.0              2            1  \n",
       "3               1.0              2            1  \n",
       "4               1.0              2            1  \n",
       "..              ...            ...          ...  \n",
       "549             1.0              0            1  \n",
       "550             1.0              0            1  \n",
       "551             1.0              2            1  \n",
       "552             1.0              2            1  \n",
       "553             0.0              1            0  \n",
       "\n",
       "[554 rows x 13 columns]"
      ]
     },
     "execution_count": 37,
     "metadata": {},
     "output_type": "execute_result"
    }
   ],
   "source": [
    "#Splitting feature and Target data\n",
    "\n",
    "X = LD.drop([\"Loan_Status\"], axis = 1)\n",
    "y = LD[\"Loan_Status\"]\n",
    "LD"
   ]
  },
  {
   "cell_type": "code",
   "execution_count": 38,
   "id": "36bebff5",
   "metadata": {},
   "outputs": [
    {
     "data": {
      "text/plain": [
       "12"
      ]
     },
     "execution_count": 38,
     "metadata": {},
     "output_type": "execute_result"
    }
   ],
   "source": [
    "num_col = LD.drop([\"Loan_Status\"], axis = 1).select_dtypes(include = [\"number\"]).columns\n",
    "num_col.size"
   ]
  },
  {
   "cell_type": "markdown",
   "id": "b29379bb-5135-4313-aee7-b76cddd0f615",
   "metadata": {},
   "source": [
    "### Scaling the data using standardize method"
   ]
  },
  {
   "cell_type": "code",
   "execution_count": 40,
   "id": "6115e28e",
   "metadata": {},
   "outputs": [
    {
     "data": {
      "text/html": [
       "<div>\n",
       "<style scoped>\n",
       "    .dataframe tbody tr th:only-of-type {\n",
       "        vertical-align: middle;\n",
       "    }\n",
       "\n",
       "    .dataframe tbody tr th {\n",
       "        vertical-align: top;\n",
       "    }\n",
       "\n",
       "    .dataframe thead th {\n",
       "        text-align: right;\n",
       "    }\n",
       "</style>\n",
       "<table border=\"1\" class=\"dataframe\">\n",
       "  <thead>\n",
       "    <tr style=\"text-align: right;\">\n",
       "      <th></th>\n",
       "      <th>Loan_ID</th>\n",
       "      <th>Gender</th>\n",
       "      <th>Married</th>\n",
       "      <th>Dependents</th>\n",
       "      <th>Education</th>\n",
       "      <th>Self_Employed</th>\n",
       "      <th>ApplicantIncome</th>\n",
       "      <th>CoapplicantIncome</th>\n",
       "      <th>LoanAmount</th>\n",
       "      <th>Loan_Amount_Term</th>\n",
       "      <th>Credit_History</th>\n",
       "      <th>Property_Area</th>\n",
       "      <th>Loan_Status</th>\n",
       "    </tr>\n",
       "  </thead>\n",
       "  <tbody>\n",
       "    <tr>\n",
       "      <th>0</th>\n",
       "      <td>-1.728927</td>\n",
       "      <td>0.466457</td>\n",
       "      <td>-1.373105</td>\n",
       "      <td>-0.72807</td>\n",
       "      <td>-0.559282</td>\n",
       "      <td>-0.361403</td>\n",
       "      <td>0.955119</td>\n",
       "      <td>-0.885868</td>\n",
       "      <td>0.251749</td>\n",
       "      <td>0.275592</td>\n",
       "      <td>0.413820</td>\n",
       "      <td>1.242022</td>\n",
       "      <td>1</td>\n",
       "    </tr>\n",
       "    <tr>\n",
       "      <th>1</th>\n",
       "      <td>-1.722674</td>\n",
       "      <td>0.466457</td>\n",
       "      <td>0.728277</td>\n",
       "      <td>0.27529</td>\n",
       "      <td>-0.559282</td>\n",
       "      <td>-0.361403</td>\n",
       "      <td>0.268800</td>\n",
       "      <td>0.010133</td>\n",
       "      <td>-0.083161</td>\n",
       "      <td>0.275592</td>\n",
       "      <td>0.413820</td>\n",
       "      <td>-1.297019</td>\n",
       "      <td>0</td>\n",
       "    </tr>\n",
       "    <tr>\n",
       "      <th>2</th>\n",
       "      <td>-1.716421</td>\n",
       "      <td>0.466457</td>\n",
       "      <td>0.728277</td>\n",
       "      <td>-0.72807</td>\n",
       "      <td>-0.559282</td>\n",
       "      <td>2.766993</td>\n",
       "      <td>-0.589371</td>\n",
       "      <td>-0.885868</td>\n",
       "      <td>-1.210915</td>\n",
       "      <td>0.275592</td>\n",
       "      <td>0.413820</td>\n",
       "      <td>1.242022</td>\n",
       "      <td>1</td>\n",
       "    </tr>\n",
       "    <tr>\n",
       "      <th>3</th>\n",
       "      <td>-1.710168</td>\n",
       "      <td>0.466457</td>\n",
       "      <td>0.728277</td>\n",
       "      <td>-0.72807</td>\n",
       "      <td>1.788007</td>\n",
       "      <td>-0.361403</td>\n",
       "      <td>-0.815433</td>\n",
       "      <td>0.515173</td>\n",
       "      <td>-0.228678</td>\n",
       "      <td>0.275592</td>\n",
       "      <td>0.413820</td>\n",
       "      <td>1.242022</td>\n",
       "      <td>1</td>\n",
       "    </tr>\n",
       "    <tr>\n",
       "      <th>4</th>\n",
       "      <td>-1.703916</td>\n",
       "      <td>0.466457</td>\n",
       "      <td>-1.373105</td>\n",
       "      <td>-0.72807</td>\n",
       "      <td>-0.559282</td>\n",
       "      <td>-0.361403</td>\n",
       "      <td>1.036979</td>\n",
       "      <td>-0.885868</td>\n",
       "      <td>0.153304</td>\n",
       "      <td>0.275592</td>\n",
       "      <td>0.413820</td>\n",
       "      <td>1.242022</td>\n",
       "      <td>1</td>\n",
       "    </tr>\n",
       "    <tr>\n",
       "      <th>...</th>\n",
       "      <td>...</td>\n",
       "      <td>...</td>\n",
       "      <td>...</td>\n",
       "      <td>...</td>\n",
       "      <td>...</td>\n",
       "      <td>...</td>\n",
       "      <td>...</td>\n",
       "      <td>...</td>\n",
       "      <td>...</td>\n",
       "      <td>...</td>\n",
       "      <td>...</td>\n",
       "      <td>...</td>\n",
       "      <td>...</td>\n",
       "    </tr>\n",
       "    <tr>\n",
       "      <th>549</th>\n",
       "      <td>1.703916</td>\n",
       "      <td>-2.143819</td>\n",
       "      <td>-1.373105</td>\n",
       "      <td>-0.72807</td>\n",
       "      <td>-0.559282</td>\n",
       "      <td>-0.361403</td>\n",
       "      <td>-0.643582</td>\n",
       "      <td>-0.885868</td>\n",
       "      <td>-1.119967</td>\n",
       "      <td>0.275592</td>\n",
       "      <td>0.413820</td>\n",
       "      <td>-1.297019</td>\n",
       "      <td>1</td>\n",
       "    </tr>\n",
       "    <tr>\n",
       "      <th>550</th>\n",
       "      <td>1.710168</td>\n",
       "      <td>0.466457</td>\n",
       "      <td>0.728277</td>\n",
       "      <td>2.28201</td>\n",
       "      <td>-0.559282</td>\n",
       "      <td>-0.361403</td>\n",
       "      <td>0.010210</td>\n",
       "      <td>-0.885868</td>\n",
       "      <td>-1.683844</td>\n",
       "      <td>-2.497014</td>\n",
       "      <td>0.413820</td>\n",
       "      <td>-1.297019</td>\n",
       "      <td>1</td>\n",
       "    </tr>\n",
       "    <tr>\n",
       "      <th>551</th>\n",
       "      <td>1.716421</td>\n",
       "      <td>0.466457</td>\n",
       "      <td>0.728277</td>\n",
       "      <td>0.27529</td>\n",
       "      <td>-0.559282</td>\n",
       "      <td>-0.361403</td>\n",
       "      <td>2.160244</td>\n",
       "      <td>-0.743268</td>\n",
       "      <td>2.190536</td>\n",
       "      <td>0.275592</td>\n",
       "      <td>0.413820</td>\n",
       "      <td>1.242022</td>\n",
       "      <td>1</td>\n",
       "    </tr>\n",
       "    <tr>\n",
       "      <th>552</th>\n",
       "      <td>1.722674</td>\n",
       "      <td>0.466457</td>\n",
       "      <td>0.728277</td>\n",
       "      <td>1.27865</td>\n",
       "      <td>-0.559282</td>\n",
       "      <td>-0.361403</td>\n",
       "      <td>1.895149</td>\n",
       "      <td>-0.885868</td>\n",
       "      <td>0.990024</td>\n",
       "      <td>0.275592</td>\n",
       "      <td>0.413820</td>\n",
       "      <td>1.242022</td>\n",
       "      <td>1</td>\n",
       "    </tr>\n",
       "    <tr>\n",
       "      <th>553</th>\n",
       "      <td>1.728927</td>\n",
       "      <td>-2.143819</td>\n",
       "      <td>-1.373105</td>\n",
       "      <td>-0.72807</td>\n",
       "      <td>-0.559282</td>\n",
       "      <td>2.766993</td>\n",
       "      <td>0.268800</td>\n",
       "      <td>-0.885868</td>\n",
       "      <td>0.007787</td>\n",
       "      <td>0.275592</td>\n",
       "      <td>-2.416507</td>\n",
       "      <td>-0.027499</td>\n",
       "      <td>0</td>\n",
       "    </tr>\n",
       "  </tbody>\n",
       "</table>\n",
       "<p>554 rows × 13 columns</p>\n",
       "</div>"
      ],
      "text/plain": [
       "      Loan_ID    Gender   Married  Dependents  Education  Self_Employed  \\\n",
       "0   -1.728927  0.466457 -1.373105    -0.72807  -0.559282      -0.361403   \n",
       "1   -1.722674  0.466457  0.728277     0.27529  -0.559282      -0.361403   \n",
       "2   -1.716421  0.466457  0.728277    -0.72807  -0.559282       2.766993   \n",
       "3   -1.710168  0.466457  0.728277    -0.72807   1.788007      -0.361403   \n",
       "4   -1.703916  0.466457 -1.373105    -0.72807  -0.559282      -0.361403   \n",
       "..        ...       ...       ...         ...        ...            ...   \n",
       "549  1.703916 -2.143819 -1.373105    -0.72807  -0.559282      -0.361403   \n",
       "550  1.710168  0.466457  0.728277     2.28201  -0.559282      -0.361403   \n",
       "551  1.716421  0.466457  0.728277     0.27529  -0.559282      -0.361403   \n",
       "552  1.722674  0.466457  0.728277     1.27865  -0.559282      -0.361403   \n",
       "553  1.728927 -2.143819 -1.373105    -0.72807  -0.559282       2.766993   \n",
       "\n",
       "     ApplicantIncome  CoapplicantIncome  LoanAmount  Loan_Amount_Term  \\\n",
       "0           0.955119          -0.885868    0.251749          0.275592   \n",
       "1           0.268800           0.010133   -0.083161          0.275592   \n",
       "2          -0.589371          -0.885868   -1.210915          0.275592   \n",
       "3          -0.815433           0.515173   -0.228678          0.275592   \n",
       "4           1.036979          -0.885868    0.153304          0.275592   \n",
       "..               ...                ...         ...               ...   \n",
       "549        -0.643582          -0.885868   -1.119967          0.275592   \n",
       "550         0.010210          -0.885868   -1.683844         -2.497014   \n",
       "551         2.160244          -0.743268    2.190536          0.275592   \n",
       "552         1.895149          -0.885868    0.990024          0.275592   \n",
       "553         0.268800          -0.885868    0.007787          0.275592   \n",
       "\n",
       "     Credit_History  Property_Area  Loan_Status  \n",
       "0          0.413820       1.242022            1  \n",
       "1          0.413820      -1.297019            0  \n",
       "2          0.413820       1.242022            1  \n",
       "3          0.413820       1.242022            1  \n",
       "4          0.413820       1.242022            1  \n",
       "..              ...            ...          ...  \n",
       "549        0.413820      -1.297019            1  \n",
       "550        0.413820      -1.297019            1  \n",
       "551        0.413820       1.242022            1  \n",
       "552        0.413820       1.242022            1  \n",
       "553       -2.416507      -0.027499            0  \n",
       "\n",
       "[554 rows x 13 columns]"
      ]
     },
     "execution_count": 40,
     "metadata": {},
     "output_type": "execute_result"
    }
   ],
   "source": [
    "#Scaling the numerical data to fit into a same scaling\n",
    "from sklearn.preprocessing import StandardScaler\n",
    "\n",
    "scaler = StandardScaler()\n",
    "\n",
    "LD[num_col] = scaler.fit_transform(LD[num_col])\n",
    "LD"
   ]
  },
  {
   "cell_type": "markdown",
   "id": "7161e1e5-8d43-4c05-bd1d-ff61e65382ab",
   "metadata": {},
   "source": [
    "### Train, test split"
   ]
  },
  {
   "cell_type": "code",
   "execution_count": 42,
   "id": "782a491b",
   "metadata": {},
   "outputs": [],
   "source": [
    "#preparing for test_train_split\n",
    "from sklearn.model_selection import train_test_split\n",
    "\n",
    "X_train, X_test, y_train, y_test = train_test_split(X, y, test_size = 0.2, random_state = 0, shuffle = True)\n"
   ]
  },
  {
   "cell_type": "code",
   "execution_count": 43,
   "id": "20d7bc10",
   "metadata": {},
   "outputs": [
    {
     "data": {
      "text/plain": [
       "(Loan_Status\n",
       " 1    306\n",
       " 0    137\n",
       " Name: count, dtype: int64,\n",
       " Loan_Status\n",
       " 1    80\n",
       " 0    31\n",
       " Name: count, dtype: int64)"
      ]
     },
     "execution_count": 43,
     "metadata": {},
     "output_type": "execute_result"
    }
   ],
   "source": [
    "y_train.shape, y_test.shape\n",
    "y_train.value_counts(), y_test.value_counts()"
   ]
  },
  {
   "cell_type": "markdown",
   "id": "404706d1-2615-44af-b127-528eb2c0b522",
   "metadata": {},
   "source": [
    "### Model building using differnt classification Algorithms"
   ]
  },
  {
   "cell_type": "markdown",
   "id": "73771fd1",
   "metadata": {},
   "source": [
    "### 1. Random_Forest_Classifier Model"
   ]
  },
  {
   "cell_type": "code",
   "execution_count": 46,
   "id": "56a01901",
   "metadata": {},
   "outputs": [
    {
     "name": "stdout",
     "output_type": "stream",
     "text": [
      "Accuracy of Random_Forest_Classifier is: 0.82\n",
      "\n",
      "Classification Report of Random_Forest_Classifier is: \n",
      "               precision    recall  f1-score   support\n",
      "\n",
      "           0       0.55      0.74      0.63        23\n",
      "           1       0.93      0.84      0.88        88\n",
      "\n",
      "    accuracy                           0.82       111\n",
      "   macro avg       0.74      0.79      0.76       111\n",
      "weighted avg       0.85      0.82      0.83       111\n",
      "\n",
      "\n",
      "Confusion matric of Random_Forest_Classifier is: \n",
      " [[17  6]\n",
      " [14 74]]\n"
     ]
    }
   ],
   "source": [
    "from sklearn.metrics import accuracy_score\n",
    "from sklearn.metrics import classification_report\n",
    "from sklearn.metrics import confusion_matrix\n",
    "\n",
    "from sklearn.ensemble import RandomForestClassifier\n",
    "\n",
    "RF_clf = RandomForestClassifier()\n",
    "RF_clf.fit(X_train, y_train)\n",
    "\n",
    "RF_y_pred = RF_clf.predict(X_test)\n",
    "\n",
    "print(\"Accuracy of Random_Forest_Classifier is:\", round(accuracy_score(RF_y_pred, y_test), 3))\n",
    "print(\"\\nClassification Report of Random_Forest_Classifier is: \\n\", classification_report(RF_y_pred, y_test))\n",
    "print(\"\\nConfusion matric of Random_Forest_Classifier is: \\n\", confusion_matrix(RF_y_pred, y_test))"
   ]
  },
  {
   "cell_type": "markdown",
   "id": "c8c6ab91",
   "metadata": {},
   "source": [
    "### 2. Naive Bayes Classifier"
   ]
  },
  {
   "cell_type": "code",
   "execution_count": 48,
   "id": "66edf3be",
   "metadata": {},
   "outputs": [
    {
     "name": "stdout",
     "output_type": "stream",
     "text": [
      "Accuracy of Naive_Bayes_Classifier is: 0.856\n",
      "\n",
      "Classification Report of Naive_Bayes_Classifier is: \n",
      "               precision    recall  f1-score   support\n",
      "\n",
      "           0       0.52      0.94      0.67        17\n",
      "           1       0.99      0.84      0.91        94\n",
      "\n",
      "    accuracy                           0.86       111\n",
      "   macro avg       0.75      0.89      0.79       111\n",
      "weighted avg       0.92      0.86      0.87       111\n",
      "\n",
      "\n",
      "Confusion matric of Naive_Bayes_Classifier is: \n",
      " [[16  1]\n",
      " [15 79]]\n"
     ]
    }
   ],
   "source": [
    "from sklearn.naive_bayes import GaussianNB\n",
    "\n",
    "NB_clf = GaussianNB()\n",
    "NB_clf.fit(X_train, y_train)\n",
    "\n",
    "NB_y_pred = NB_clf.predict(X_test)\n",
    "\n",
    "print(\"Accuracy of Naive_Bayes_Classifier is:\", round(accuracy_score(NB_y_pred, y_test), 3))\n",
    "print(\"\\nClassification Report of Naive_Bayes_Classifier is: \\n\", classification_report(NB_y_pred, y_test))\n",
    "print(\"\\nConfusion matric of Naive_Bayes_Classifier is: \\n\", confusion_matrix(NB_y_pred, y_test))"
   ]
  },
  {
   "cell_type": "markdown",
   "id": "300d0565",
   "metadata": {},
   "source": [
    "### 3. Decision Tree Classifier"
   ]
  },
  {
   "cell_type": "code",
   "execution_count": 50,
   "id": "dac34496",
   "metadata": {},
   "outputs": [
    {
     "name": "stdout",
     "output_type": "stream",
     "text": [
      "Accuracy of Decision_Tree_Classifier is: 0.658\n",
      "\n",
      "Classification Report of Decision_Tree_Classifier is: \n",
      "               precision    recall  f1-score   support\n",
      "\n",
      "           0       0.52      0.41      0.46        39\n",
      "           1       0.71      0.79      0.75        72\n",
      "\n",
      "    accuracy                           0.66       111\n",
      "   macro avg       0.61      0.60      0.60       111\n",
      "weighted avg       0.64      0.66      0.65       111\n",
      "\n",
      "\n",
      "Confusion matric of Naive_Bayes_Classifier is: \n",
      " [[16 23]\n",
      " [15 57]]\n"
     ]
    }
   ],
   "source": [
    "from sklearn.tree import DecisionTreeClassifier\n",
    "\n",
    "DT_clf = DecisionTreeClassifier()\n",
    "DT_clf.fit(X_train, y_train)\n",
    "\n",
    "DT_y_pred = DT_clf.predict(X_test)\n",
    "\n",
    "print(\"Accuracy of Decision_Tree_Classifier is:\", round(accuracy_score(DT_y_pred, y_test), 3))\n",
    "print(\"\\nClassification Report of Decision_Tree_Classifier is: \\n\", classification_report(DT_y_pred, y_test))\n",
    "print(\"\\nConfusion matric of Naive_Bayes_Classifier is: \\n\", confusion_matrix(DT_y_pred, y_test))"
   ]
  },
  {
   "cell_type": "markdown",
   "id": "78481405",
   "metadata": {},
   "source": [
    "### 4. KNearestNeighbors"
   ]
  },
  {
   "cell_type": "code",
   "execution_count": 52,
   "id": "1f695364",
   "metadata": {},
   "outputs": [
    {
     "name": "stdout",
     "output_type": "stream",
     "text": [
      "Accuracy of K_Neighbors_Classifier is: 0.577\n",
      "\n",
      "Classification Report of K_Neighbors_Classifier is: \n",
      "               precision    recall  f1-score   support\n",
      "\n",
      "           0       0.10      0.14      0.11        22\n",
      "           1       0.76      0.69      0.72        89\n",
      "\n",
      "    accuracy                           0.58       111\n",
      "   macro avg       0.43      0.41      0.42       111\n",
      "weighted avg       0.63      0.58      0.60       111\n",
      "\n",
      "\n",
      "Confusion matric of Naive_Bayes_Classifier is: \n",
      " [[ 3 19]\n",
      " [28 61]]\n"
     ]
    }
   ],
   "source": [
    "from sklearn.neighbors import KNeighborsClassifier\n",
    "\n",
    "KNN_clf = KNeighborsClassifier()\n",
    "KNN_clf.fit(X_train, y_train)\n",
    "\n",
    "KNN_y_pred = KNN_clf.predict(X_test)\n",
    "\n",
    "print(\"Accuracy of K_Neighbors_Classifier is:\", round(accuracy_score(KNN_y_pred, y_test), 3))\n",
    "print(\"\\nClassification Report of K_Neighbors_Classifier is: \\n\", classification_report(KNN_y_pred, y_test))\n",
    "print(\"\\nConfusion matric of Naive_Bayes_Classifier is: \\n\", confusion_matrix(KNN_y_pred, y_test))"
   ]
  },
  {
   "cell_type": "markdown",
   "id": "ebfcb5d0",
   "metadata": {},
   "source": [
    "### 5. Support Vector Machine"
   ]
  },
  {
   "cell_type": "code",
   "execution_count": 54,
   "id": "32db144e",
   "metadata": {},
   "outputs": [
    {
     "name": "stdout",
     "output_type": "stream",
     "text": [
      "Accuracy of SVM_Classifier is: 0.721\n",
      "\n",
      "Classification Report of SVM_Classifier is: \n",
      "               precision    recall  f1-score   support\n",
      "\n",
      "           0       0.00      1.00      0.00         0\n",
      "           1       1.00      0.72      0.84       111\n",
      "\n",
      "    accuracy                           0.72       111\n",
      "   macro avg       0.50      0.86      0.42       111\n",
      "weighted avg       1.00      0.72      0.84       111\n",
      "\n",
      "\n",
      "Confusion matric of SVM_Classifier is: \n",
      " [[ 0  0]\n",
      " [31 80]]\n"
     ]
    }
   ],
   "source": [
    "from sklearn import svm\n",
    "\n",
    "SVM_clf = svm.SVC()\n",
    "SVM_clf.fit(X_train, y_train)\n",
    "\n",
    "SVM_y_pred = SVM_clf.predict(X_test)\n",
    "\n",
    "print(\"Accuracy of SVM_Classifier is:\", round(accuracy_score(SVM_y_pred, y_test), 3))\n",
    "print(\"\\nClassification Report of SVM_Classifier is: \\n\", classification_report(SVM_y_pred, y_test, zero_division = 1))\n",
    "print(\"\\nConfusion matric of SVM_Classifier is: \\n\", confusion_matrix(SVM_y_pred, y_test))"
   ]
  },
  {
   "cell_type": "markdown",
   "id": "41a79cb8",
   "metadata": {},
   "source": [
    "### 6. Stochastic Gradient Descent"
   ]
  },
  {
   "cell_type": "code",
   "execution_count": 56,
   "id": "47bfe17b",
   "metadata": {},
   "outputs": [
    {
     "name": "stdout",
     "output_type": "stream",
     "text": [
      "Accuracy of Stochastic_Gradient_Descent_Classifier is: 0.721\n",
      "\n",
      "Classification Report of Stochastic_Gradient_Descent_Classifier is: \n",
      "               precision    recall  f1-score   support\n",
      "\n",
      "           0       0.00      0.00      0.00         0\n",
      "           1       1.00      0.72      0.84       111\n",
      "\n",
      "    accuracy                           0.72       111\n",
      "   macro avg       0.50      0.36      0.42       111\n",
      "weighted avg       1.00      0.72      0.84       111\n",
      "\n",
      "\n",
      "Confusion matric of Stochastic_Gradient_Descent_Classifier is: \n",
      " [[ 0  0]\n",
      " [31 80]]\n"
     ]
    },
    {
     "name": "stderr",
     "output_type": "stream",
     "text": [
      "C:\\ProgramData\\anaconda3\\Lib\\site-packages\\sklearn\\metrics\\_classification.py:1344: UndefinedMetricWarning: Recall and F-score are ill-defined and being set to 0.0 in labels with no true samples. Use `zero_division` parameter to control this behavior.\n",
      "  _warn_prf(average, modifier, msg_start, len(result))\n",
      "C:\\ProgramData\\anaconda3\\Lib\\site-packages\\sklearn\\metrics\\_classification.py:1344: UndefinedMetricWarning: Recall and F-score are ill-defined and being set to 0.0 in labels with no true samples. Use `zero_division` parameter to control this behavior.\n",
      "  _warn_prf(average, modifier, msg_start, len(result))\n",
      "C:\\ProgramData\\anaconda3\\Lib\\site-packages\\sklearn\\metrics\\_classification.py:1344: UndefinedMetricWarning: Recall and F-score are ill-defined and being set to 0.0 in labels with no true samples. Use `zero_division` parameter to control this behavior.\n",
      "  _warn_prf(average, modifier, msg_start, len(result))\n"
     ]
    }
   ],
   "source": [
    "from sklearn.linear_model import SGDClassifier\n",
    "\n",
    "SGD_clf = SGDClassifier()\n",
    "SGD_clf.fit(X_train, y_train)\n",
    "\n",
    "SGD_y_pred = SGD_clf.predict(X_test)\n",
    "\n",
    "print(\"Accuracy of Stochastic_Gradient_Descent_Classifier is:\", round(accuracy_score(SGD_y_pred, y_test), 3))\n",
    "print(\"\\nClassification Report of Stochastic_Gradient_Descent_Classifier is: \\n\", classification_report(SGD_y_pred, y_test))\n",
    "print(\"\\nConfusion matric of Stochastic_Gradient_Descent_Classifier is: \\n\", confusion_matrix(SGD_y_pred, y_test))"
   ]
  },
  {
   "cell_type": "markdown",
   "id": "90e6fff2",
   "metadata": {},
   "source": [
    "### 7. Logistic Regression"
   ]
  },
  {
   "cell_type": "code",
   "execution_count": 58,
   "id": "aebd3493",
   "metadata": {},
   "outputs": [
    {
     "name": "stdout",
     "output_type": "stream",
     "text": [
      "Accuracy of Logistic Regression_Classifier is: 0.847\n",
      "\n",
      "Classification Report of Logistic Regression_Classifier is: \n",
      "               precision    recall  f1-score   support\n",
      "\n",
      "           0       0.48      0.94      0.64        16\n",
      "           1       0.99      0.83      0.90        95\n",
      "\n",
      "    accuracy                           0.85       111\n",
      "   macro avg       0.74      0.88      0.77       111\n",
      "weighted avg       0.91      0.85      0.86       111\n",
      "\n",
      "\n",
      "Confusion matric of Logistic Regression_Classifier is: \n",
      " [[15  1]\n",
      " [16 79]]\n"
     ]
    }
   ],
   "source": [
    "from sklearn.linear_model import LogisticRegression\n",
    "\n",
    "LGR_clf = LogisticRegression(max_iter = 1000)\n",
    "LGR_clf.fit(X_train, y_train)\n",
    "\n",
    "LGR_y_pred = LGR_clf.predict(X_test)\n",
    "\n",
    "print(\"Accuracy of Logistic Regression_Classifier is:\", round(accuracy_score(LGR_y_pred, y_test), 3))\n",
    "print(\"\\nClassification Report of Logistic Regression_Classifier is: \\n\", classification_report(LGR_y_pred, y_test))\n",
    "print(\"\\nConfusion matric of Logistic Regression_Classifier is: \\n\", confusion_matrix(LGR_y_pred, y_test))"
   ]
  },
  {
   "cell_type": "markdown",
   "id": "8f1f2f54-530d-4e39-9f9b-d94b989c0a9f",
   "metadata": {},
   "source": [
    "### Overall Accuracy score"
   ]
  },
  {
   "cell_type": "code",
   "execution_count": 60,
   "id": "2c7210a7",
   "metadata": {},
   "outputs": [
    {
     "name": "stdout",
     "output_type": "stream",
     "text": [
      "Accuracy of Random_Forest_Classifier is: 0.82\n",
      "----------------------------------------------------------------------------------------------------\n",
      "Accuracy of Naive_Bayes_Classifier is: 0.856\n",
      "----------------------------------------------------------------------------------------------------\n",
      "Accuracy of Decision_Tree_Classifier is: 0.658\n",
      "----------------------------------------------------------------------------------------------------\n",
      "Accuracy of K_Neighbors_Classifier is: 0.577\n",
      "----------------------------------------------------------------------------------------------------\n",
      "Accuracy of SVM_Classifier is: 0.721\n",
      "----------------------------------------------------------------------------------------------------\n",
      "Accuracy of Stochastic_Gradient_Descent_Classifier is: 0.721\n",
      "----------------------------------------------------------------------------------------------------\n",
      "Accuracy of Logistic Regression_Classifier is: 0.847\n",
      "----------------------------------------------------------------------------------------------------\n"
     ]
    }
   ],
   "source": [
    "print(\"Accuracy of Random_Forest_Classifier is:\", round(accuracy_score(RF_y_pred, y_test), 3))\n",
    "print(\"-\"*100)\n",
    "print(\"Accuracy of Naive_Bayes_Classifier is:\", round(accuracy_score(NB_y_pred, y_test), 3))\n",
    "print(\"-\"*100)\n",
    "print(\"Accuracy of Decision_Tree_Classifier is:\", round(accuracy_score(DT_y_pred, y_test), 3))\n",
    "print(\"-\"*100)\n",
    "print(\"Accuracy of K_Neighbors_Classifier is:\", round(accuracy_score(KNN_y_pred, y_test), 3))\n",
    "print(\"-\"*100)\n",
    "print(\"Accuracy of SVM_Classifier is:\", round(accuracy_score(SVM_y_pred, y_test), 3))\n",
    "print(\"-\"*100)\n",
    "print(\"Accuracy of Stochastic_Gradient_Descent_Classifier is:\", round(accuracy_score(SGD_y_pred, y_test), 3))\n",
    "print(\"-\"*100)\n",
    "print(\"Accuracy of Logistic Regression_Classifier is:\", round(accuracy_score(LGR_y_pred, y_test), 3))\n",
    "print(\"-\"*100)"
   ]
  },
  {
   "cell_type": "markdown",
   "id": "97a92867-ef2c-4f15-8e47-199c64b38047",
   "metadata": {},
   "source": [
    "### Predict with new data using the best model"
   ]
  },
  {
   "cell_type": "code",
   "execution_count": 62,
   "id": "7c78b407-ba69-435c-b542-0fa539743b02",
   "metadata": {},
   "outputs": [
    {
     "data": {
      "text/html": [
       "<div>\n",
       "<style scoped>\n",
       "    .dataframe tbody tr th:only-of-type {\n",
       "        vertical-align: middle;\n",
       "    }\n",
       "\n",
       "    .dataframe tbody tr th {\n",
       "        vertical-align: top;\n",
       "    }\n",
       "\n",
       "    .dataframe thead th {\n",
       "        text-align: right;\n",
       "    }\n",
       "</style>\n",
       "<table border=\"1\" class=\"dataframe\">\n",
       "  <thead>\n",
       "    <tr style=\"text-align: right;\">\n",
       "      <th></th>\n",
       "      <th>Loan_ID</th>\n",
       "      <th>Gender</th>\n",
       "      <th>Married</th>\n",
       "      <th>Dependents</th>\n",
       "      <th>Education</th>\n",
       "      <th>Self_Employed</th>\n",
       "      <th>ApplicantIncome</th>\n",
       "      <th>CoapplicantIncome</th>\n",
       "      <th>LoanAmount</th>\n",
       "      <th>Loan_Amount_Term</th>\n",
       "      <th>Credit_History</th>\n",
       "      <th>Property_Area</th>\n",
       "    </tr>\n",
       "  </thead>\n",
       "  <tbody>\n",
       "    <tr>\n",
       "      <th>0</th>\n",
       "      <td>0</td>\n",
       "      <td>1</td>\n",
       "      <td>0</td>\n",
       "      <td>0</td>\n",
       "      <td>0</td>\n",
       "      <td>0</td>\n",
       "      <td>5849</td>\n",
       "      <td>0.0</td>\n",
       "      <td>146.412162</td>\n",
       "      <td>360.0</td>\n",
       "      <td>1.0</td>\n",
       "      <td>2</td>\n",
       "    </tr>\n",
       "    <tr>\n",
       "      <th>1</th>\n",
       "      <td>1</td>\n",
       "      <td>1</td>\n",
       "      <td>1</td>\n",
       "      <td>1</td>\n",
       "      <td>0</td>\n",
       "      <td>0</td>\n",
       "      <td>4583</td>\n",
       "      <td>1508.0</td>\n",
       "      <td>128.000000</td>\n",
       "      <td>360.0</td>\n",
       "      <td>1.0</td>\n",
       "      <td>0</td>\n",
       "    </tr>\n",
       "    <tr>\n",
       "      <th>2</th>\n",
       "      <td>2</td>\n",
       "      <td>1</td>\n",
       "      <td>1</td>\n",
       "      <td>0</td>\n",
       "      <td>0</td>\n",
       "      <td>1</td>\n",
       "      <td>3000</td>\n",
       "      <td>0.0</td>\n",
       "      <td>66.000000</td>\n",
       "      <td>360.0</td>\n",
       "      <td>1.0</td>\n",
       "      <td>2</td>\n",
       "    </tr>\n",
       "    <tr>\n",
       "      <th>3</th>\n",
       "      <td>3</td>\n",
       "      <td>1</td>\n",
       "      <td>1</td>\n",
       "      <td>0</td>\n",
       "      <td>1</td>\n",
       "      <td>0</td>\n",
       "      <td>2583</td>\n",
       "      <td>2358.0</td>\n",
       "      <td>120.000000</td>\n",
       "      <td>360.0</td>\n",
       "      <td>1.0</td>\n",
       "      <td>2</td>\n",
       "    </tr>\n",
       "    <tr>\n",
       "      <th>4</th>\n",
       "      <td>4</td>\n",
       "      <td>1</td>\n",
       "      <td>0</td>\n",
       "      <td>0</td>\n",
       "      <td>0</td>\n",
       "      <td>0</td>\n",
       "      <td>6000</td>\n",
       "      <td>0.0</td>\n",
       "      <td>141.000000</td>\n",
       "      <td>360.0</td>\n",
       "      <td>1.0</td>\n",
       "      <td>2</td>\n",
       "    </tr>\n",
       "    <tr>\n",
       "      <th>...</th>\n",
       "      <td>...</td>\n",
       "      <td>...</td>\n",
       "      <td>...</td>\n",
       "      <td>...</td>\n",
       "      <td>...</td>\n",
       "      <td>...</td>\n",
       "      <td>...</td>\n",
       "      <td>...</td>\n",
       "      <td>...</td>\n",
       "      <td>...</td>\n",
       "      <td>...</td>\n",
       "      <td>...</td>\n",
       "    </tr>\n",
       "    <tr>\n",
       "      <th>549</th>\n",
       "      <td>549</td>\n",
       "      <td>0</td>\n",
       "      <td>0</td>\n",
       "      <td>0</td>\n",
       "      <td>0</td>\n",
       "      <td>0</td>\n",
       "      <td>2900</td>\n",
       "      <td>0.0</td>\n",
       "      <td>71.000000</td>\n",
       "      <td>360.0</td>\n",
       "      <td>1.0</td>\n",
       "      <td>0</td>\n",
       "    </tr>\n",
       "    <tr>\n",
       "      <th>550</th>\n",
       "      <td>550</td>\n",
       "      <td>1</td>\n",
       "      <td>1</td>\n",
       "      <td>3</td>\n",
       "      <td>0</td>\n",
       "      <td>0</td>\n",
       "      <td>4106</td>\n",
       "      <td>0.0</td>\n",
       "      <td>40.000000</td>\n",
       "      <td>180.0</td>\n",
       "      <td>1.0</td>\n",
       "      <td>0</td>\n",
       "    </tr>\n",
       "    <tr>\n",
       "      <th>551</th>\n",
       "      <td>551</td>\n",
       "      <td>1</td>\n",
       "      <td>1</td>\n",
       "      <td>1</td>\n",
       "      <td>0</td>\n",
       "      <td>0</td>\n",
       "      <td>8072</td>\n",
       "      <td>240.0</td>\n",
       "      <td>253.000000</td>\n",
       "      <td>360.0</td>\n",
       "      <td>1.0</td>\n",
       "      <td>2</td>\n",
       "    </tr>\n",
       "    <tr>\n",
       "      <th>552</th>\n",
       "      <td>552</td>\n",
       "      <td>1</td>\n",
       "      <td>1</td>\n",
       "      <td>2</td>\n",
       "      <td>0</td>\n",
       "      <td>0</td>\n",
       "      <td>7583</td>\n",
       "      <td>0.0</td>\n",
       "      <td>187.000000</td>\n",
       "      <td>360.0</td>\n",
       "      <td>1.0</td>\n",
       "      <td>2</td>\n",
       "    </tr>\n",
       "    <tr>\n",
       "      <th>553</th>\n",
       "      <td>553</td>\n",
       "      <td>0</td>\n",
       "      <td>0</td>\n",
       "      <td>0</td>\n",
       "      <td>0</td>\n",
       "      <td>1</td>\n",
       "      <td>4583</td>\n",
       "      <td>0.0</td>\n",
       "      <td>133.000000</td>\n",
       "      <td>360.0</td>\n",
       "      <td>0.0</td>\n",
       "      <td>1</td>\n",
       "    </tr>\n",
       "  </tbody>\n",
       "</table>\n",
       "<p>554 rows × 12 columns</p>\n",
       "</div>"
      ],
      "text/plain": [
       "     Loan_ID  Gender  Married  Dependents  Education  Self_Employed  \\\n",
       "0          0       1        0           0          0              0   \n",
       "1          1       1        1           1          0              0   \n",
       "2          2       1        1           0          0              1   \n",
       "3          3       1        1           0          1              0   \n",
       "4          4       1        0           0          0              0   \n",
       "..       ...     ...      ...         ...        ...            ...   \n",
       "549      549       0        0           0          0              0   \n",
       "550      550       1        1           3          0              0   \n",
       "551      551       1        1           1          0              0   \n",
       "552      552       1        1           2          0              0   \n",
       "553      553       0        0           0          0              1   \n",
       "\n",
       "     ApplicantIncome  CoapplicantIncome  LoanAmount  Loan_Amount_Term  \\\n",
       "0               5849                0.0  146.412162             360.0   \n",
       "1               4583             1508.0  128.000000             360.0   \n",
       "2               3000                0.0   66.000000             360.0   \n",
       "3               2583             2358.0  120.000000             360.0   \n",
       "4               6000                0.0  141.000000             360.0   \n",
       "..               ...                ...         ...               ...   \n",
       "549             2900                0.0   71.000000             360.0   \n",
       "550             4106                0.0   40.000000             180.0   \n",
       "551             8072              240.0  253.000000             360.0   \n",
       "552             7583                0.0  187.000000             360.0   \n",
       "553             4583                0.0  133.000000             360.0   \n",
       "\n",
       "     Credit_History  Property_Area  \n",
       "0               1.0              2  \n",
       "1               1.0              0  \n",
       "2               1.0              2  \n",
       "3               1.0              2  \n",
       "4               1.0              2  \n",
       "..              ...            ...  \n",
       "549             1.0              0  \n",
       "550             1.0              0  \n",
       "551             1.0              2  \n",
       "552             1.0              2  \n",
       "553             0.0              1  \n",
       "\n",
       "[554 rows x 12 columns]"
      ]
     },
     "execution_count": 62,
     "metadata": {},
     "output_type": "execute_result"
    }
   ],
   "source": [
    "X"
   ]
  },
  {
   "cell_type": "code",
   "execution_count": 63,
   "id": "a10a774b-b71c-4d9c-8662-0aad7f06fec8",
   "metadata": {},
   "outputs": [
    {
     "data": {
      "text/html": [
       "<div>\n",
       "<style scoped>\n",
       "    .dataframe tbody tr th:only-of-type {\n",
       "        vertical-align: middle;\n",
       "    }\n",
       "\n",
       "    .dataframe tbody tr th {\n",
       "        vertical-align: top;\n",
       "    }\n",
       "\n",
       "    .dataframe thead th {\n",
       "        text-align: right;\n",
       "    }\n",
       "</style>\n",
       "<table border=\"1\" class=\"dataframe\">\n",
       "  <thead>\n",
       "    <tr style=\"text-align: right;\">\n",
       "      <th></th>\n",
       "      <th>Loan_ID</th>\n",
       "      <th>Gender</th>\n",
       "      <th>Married</th>\n",
       "      <th>Dependents</th>\n",
       "      <th>Education</th>\n",
       "      <th>Self_Employed</th>\n",
       "      <th>ApplicantIncome</th>\n",
       "      <th>CoapplicantIncome</th>\n",
       "      <th>LoanAmount</th>\n",
       "      <th>Loan_Amount_Term</th>\n",
       "      <th>Credit_History</th>\n",
       "      <th>Property_Area</th>\n",
       "    </tr>\n",
       "  </thead>\n",
       "  <tbody>\n",
       "    <tr>\n",
       "      <th>0</th>\n",
       "      <td>554</td>\n",
       "      <td>0</td>\n",
       "      <td>1</td>\n",
       "      <td>1</td>\n",
       "      <td>0</td>\n",
       "      <td>1</td>\n",
       "      <td>5000</td>\n",
       "      <td>0.0</td>\n",
       "      <td>700</td>\n",
       "      <td>360.0</td>\n",
       "      <td>1.0</td>\n",
       "      <td>3</td>\n",
       "    </tr>\n",
       "  </tbody>\n",
       "</table>\n",
       "</div>"
      ],
      "text/plain": [
       "   Loan_ID  Gender  Married  Dependents  Education  Self_Employed  \\\n",
       "0      554       0        1           1          0              1   \n",
       "\n",
       "   ApplicantIncome  CoapplicantIncome  LoanAmount  Loan_Amount_Term  \\\n",
       "0             5000                0.0         700             360.0   \n",
       "\n",
       "   Credit_History  Property_Area  \n",
       "0             1.0              3  "
      ]
     },
     "execution_count": 63,
     "metadata": {},
     "output_type": "execute_result"
    }
   ],
   "source": [
    "new_data = {\"Loan_ID\": 554,\"Gender\": 0,\t\"Married\": 1, \"Dependents\": 1, \"Education\": 0, \"Self_Employed\": 1, \"ApplicantIncome\": 5000, \n",
    "                   \"CoapplicantIncome\": 0.0, \"LoanAmount\": 700, \"Loan_Amount_Term\": 360.0, \"Credit_History\": 1.0, \t\"Property_Area\": 3}\n",
    "df1 = pd.DataFrame(new_data, index = [0])\n",
    "df1"
   ]
  },
  {
   "cell_type": "code",
   "execution_count": 64,
   "id": "d4c3cf19-66ac-4f5e-980c-dc24dc5f7fe1",
   "metadata": {},
   "outputs": [
    {
     "data": {
      "text/plain": [
       "array([1])"
      ]
     },
     "execution_count": 64,
     "metadata": {},
     "output_type": "execute_result"
    }
   ],
   "source": [
    "NB_y_pred = NB_clf.predict(df1)\n",
    "\n",
    "NB_y_pred"
   ]
  },
  {
   "cell_type": "markdown",
   "id": "fd51c050-addc-4f12-a305-bc06a185fb79",
   "metadata": {},
   "source": [
    "### Save the best model for deployment"
   ]
  },
  {
   "cell_type": "code",
   "execution_count": 66,
   "id": "36fd37d0-dd78-4fb9-84b1-aa43c9709d22",
   "metadata": {},
   "outputs": [
    {
     "data": {
      "text/html": [
       "<style>#sk-container-id-1 {color: black;background-color: white;}#sk-container-id-1 pre{padding: 0;}#sk-container-id-1 div.sk-toggleable {background-color: white;}#sk-container-id-1 label.sk-toggleable__label {cursor: pointer;display: block;width: 100%;margin-bottom: 0;padding: 0.3em;box-sizing: border-box;text-align: center;}#sk-container-id-1 label.sk-toggleable__label-arrow:before {content: \"▸\";float: left;margin-right: 0.25em;color: #696969;}#sk-container-id-1 label.sk-toggleable__label-arrow:hover:before {color: black;}#sk-container-id-1 div.sk-estimator:hover label.sk-toggleable__label-arrow:before {color: black;}#sk-container-id-1 div.sk-toggleable__content {max-height: 0;max-width: 0;overflow: hidden;text-align: left;background-color: #f0f8ff;}#sk-container-id-1 div.sk-toggleable__content pre {margin: 0.2em;color: black;border-radius: 0.25em;background-color: #f0f8ff;}#sk-container-id-1 input.sk-toggleable__control:checked~div.sk-toggleable__content {max-height: 200px;max-width: 100%;overflow: auto;}#sk-container-id-1 input.sk-toggleable__control:checked~label.sk-toggleable__label-arrow:before {content: \"▾\";}#sk-container-id-1 div.sk-estimator input.sk-toggleable__control:checked~label.sk-toggleable__label {background-color: #d4ebff;}#sk-container-id-1 div.sk-label input.sk-toggleable__control:checked~label.sk-toggleable__label {background-color: #d4ebff;}#sk-container-id-1 input.sk-hidden--visually {border: 0;clip: rect(1px 1px 1px 1px);clip: rect(1px, 1px, 1px, 1px);height: 1px;margin: -1px;overflow: hidden;padding: 0;position: absolute;width: 1px;}#sk-container-id-1 div.sk-estimator {font-family: monospace;background-color: #f0f8ff;border: 1px dotted black;border-radius: 0.25em;box-sizing: border-box;margin-bottom: 0.5em;}#sk-container-id-1 div.sk-estimator:hover {background-color: #d4ebff;}#sk-container-id-1 div.sk-parallel-item::after {content: \"\";width: 100%;border-bottom: 1px solid gray;flex-grow: 1;}#sk-container-id-1 div.sk-label:hover label.sk-toggleable__label {background-color: #d4ebff;}#sk-container-id-1 div.sk-serial::before {content: \"\";position: absolute;border-left: 1px solid gray;box-sizing: border-box;top: 0;bottom: 0;left: 50%;z-index: 0;}#sk-container-id-1 div.sk-serial {display: flex;flex-direction: column;align-items: center;background-color: white;padding-right: 0.2em;padding-left: 0.2em;position: relative;}#sk-container-id-1 div.sk-item {position: relative;z-index: 1;}#sk-container-id-1 div.sk-parallel {display: flex;align-items: stretch;justify-content: center;background-color: white;position: relative;}#sk-container-id-1 div.sk-item::before, #sk-container-id-1 div.sk-parallel-item::before {content: \"\";position: absolute;border-left: 1px solid gray;box-sizing: border-box;top: 0;bottom: 0;left: 50%;z-index: -1;}#sk-container-id-1 div.sk-parallel-item {display: flex;flex-direction: column;z-index: 1;position: relative;background-color: white;}#sk-container-id-1 div.sk-parallel-item:first-child::after {align-self: flex-end;width: 50%;}#sk-container-id-1 div.sk-parallel-item:last-child::after {align-self: flex-start;width: 50%;}#sk-container-id-1 div.sk-parallel-item:only-child::after {width: 0;}#sk-container-id-1 div.sk-dashed-wrapped {border: 1px dashed gray;margin: 0 0.4em 0.5em 0.4em;box-sizing: border-box;padding-bottom: 0.4em;background-color: white;}#sk-container-id-1 div.sk-label label {font-family: monospace;font-weight: bold;display: inline-block;line-height: 1.2em;}#sk-container-id-1 div.sk-label-container {text-align: center;}#sk-container-id-1 div.sk-container {/* jupyter's `normalize.less` sets `[hidden] { display: none; }` but bootstrap.min.css set `[hidden] { display: none !important; }` so we also need the `!important` here to be able to override the default hidden behavior on the sphinx rendered scikit-learn.org. See: https://github.com/scikit-learn/scikit-learn/issues/21755 */display: inline-block !important;position: relative;}#sk-container-id-1 div.sk-text-repr-fallback {display: none;}</style><div id=\"sk-container-id-1\" class=\"sk-top-container\"><div class=\"sk-text-repr-fallback\"><pre>GaussianNB()</pre><b>In a Jupyter environment, please rerun this cell to show the HTML representation or trust the notebook. <br />On GitHub, the HTML representation is unable to render, please try loading this page with nbviewer.org.</b></div><div class=\"sk-container\" hidden><div class=\"sk-item\"><div class=\"sk-estimator sk-toggleable\"><input class=\"sk-toggleable__control sk-hidden--visually\" id=\"sk-estimator-id-1\" type=\"checkbox\" checked><label for=\"sk-estimator-id-1\" class=\"sk-toggleable__label sk-toggleable__label-arrow\">GaussianNB</label><div class=\"sk-toggleable__content\"><pre>GaussianNB()</pre></div></div></div></div></div>"
      ],
      "text/plain": [
       "GaussianNB()"
      ]
     },
     "execution_count": 66,
     "metadata": {},
     "output_type": "execute_result"
    }
   ],
   "source": [
    "NB_clf = GaussianNB()\n",
    "NB_clf.fit(X_train, y_train)"
   ]
  },
  {
   "cell_type": "code",
   "execution_count": 67,
   "id": "beb6cf23-560e-41b5-bb62-69f12cdbb938",
   "metadata": {},
   "outputs": [
    {
     "data": {
      "text/plain": [
       "['Naive_Clf_model']"
      ]
     },
     "execution_count": 67,
     "metadata": {},
     "output_type": "execute_result"
    }
   ],
   "source": [
    "import joblib\n",
    "\n",
    "joblib.dump(NB_clf, \"Naive_Clf_model\")"
   ]
  },
  {
   "cell_type": "code",
   "execution_count": 68,
   "id": "7daa0bfa-b432-4218-8ca0-f4a1d30e0b39",
   "metadata": {},
   "outputs": [
    {
     "data": {
      "text/plain": [
       "array([1])"
      ]
     },
     "execution_count": 68,
     "metadata": {},
     "output_type": "execute_result"
    }
   ],
   "source": [
    "new = joblib.load(\"Naive_Clf_model\")\n",
    "\n",
    "new.predict(df1)"
   ]
  }
 ],
 "metadata": {
  "kernelspec": {
   "display_name": "Python 3 (ipykernel)",
   "language": "python",
   "name": "python3"
  },
  "language_info": {
   "codemirror_mode": {
    "name": "ipython",
    "version": 3
   },
   "file_extension": ".py",
   "mimetype": "text/x-python",
   "name": "python",
   "nbconvert_exporter": "python",
   "pygments_lexer": "ipython3",
   "version": "3.11.7"
  }
 },
 "nbformat": 4,
 "nbformat_minor": 5
}
