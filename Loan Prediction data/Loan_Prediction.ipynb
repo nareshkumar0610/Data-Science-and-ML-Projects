{
 "cells": [
  {
   "cell_type": "markdown",
   "id": "02efeae3",
   "metadata": {},
   "source": [
    "# Loan Prediction Project"
   ]
  },
  {
   "cell_type": "code",
   "execution_count": 21,
   "id": "fb1e84eb",
   "metadata": {},
   "outputs": [],
   "source": [
    "# Importing libraries\n",
    "import numpy as np\n",
    "import pandas as pd\n",
    "import matplotlib.pyplot as plt\n",
    "import seaborn as sns"
   ]
  },
  {
   "cell_type": "markdown",
   "id": "84fa1dd3",
   "metadata": {},
   "source": [
    "##### Load and Read Dataset"
   ]
  },
  {
   "cell_type": "code",
   "execution_count": 22,
   "id": "be31328f",
   "metadata": {},
   "outputs": [
    {
     "data": {
      "text/html": [
       "<div>\n",
       "<style scoped>\n",
       "    .dataframe tbody tr th:only-of-type {\n",
       "        vertical-align: middle;\n",
       "    }\n",
       "\n",
       "    .dataframe tbody tr th {\n",
       "        vertical-align: top;\n",
       "    }\n",
       "\n",
       "    .dataframe thead th {\n",
       "        text-align: right;\n",
       "    }\n",
       "</style>\n",
       "<table border=\"1\" class=\"dataframe\">\n",
       "  <thead>\n",
       "    <tr style=\"text-align: right;\">\n",
       "      <th></th>\n",
       "      <th>Loan_ID</th>\n",
       "      <th>Gender</th>\n",
       "      <th>Married</th>\n",
       "      <th>Dependents</th>\n",
       "      <th>Education</th>\n",
       "      <th>Self_Employed</th>\n",
       "      <th>ApplicantIncome</th>\n",
       "      <th>CoapplicantIncome</th>\n",
       "      <th>LoanAmount</th>\n",
       "      <th>Loan_Amount_Term</th>\n",
       "      <th>Credit_History</th>\n",
       "      <th>Property_Area</th>\n",
       "      <th>Loan_Status</th>\n",
       "    </tr>\n",
       "  </thead>\n",
       "  <tbody>\n",
       "    <tr>\n",
       "      <th>0</th>\n",
       "      <td>LP001002</td>\n",
       "      <td>Male</td>\n",
       "      <td>No</td>\n",
       "      <td>0</td>\n",
       "      <td>Graduate</td>\n",
       "      <td>No</td>\n",
       "      <td>5849</td>\n",
       "      <td>0.0</td>\n",
       "      <td>NaN</td>\n",
       "      <td>360.0</td>\n",
       "      <td>1.0</td>\n",
       "      <td>Urban</td>\n",
       "      <td>Y</td>\n",
       "    </tr>\n",
       "    <tr>\n",
       "      <th>1</th>\n",
       "      <td>LP001003</td>\n",
       "      <td>Male</td>\n",
       "      <td>Yes</td>\n",
       "      <td>1</td>\n",
       "      <td>Graduate</td>\n",
       "      <td>No</td>\n",
       "      <td>4583</td>\n",
       "      <td>1508.0</td>\n",
       "      <td>128.0</td>\n",
       "      <td>360.0</td>\n",
       "      <td>1.0</td>\n",
       "      <td>Rural</td>\n",
       "      <td>N</td>\n",
       "    </tr>\n",
       "    <tr>\n",
       "      <th>2</th>\n",
       "      <td>LP001005</td>\n",
       "      <td>Male</td>\n",
       "      <td>Yes</td>\n",
       "      <td>0</td>\n",
       "      <td>Graduate</td>\n",
       "      <td>Yes</td>\n",
       "      <td>3000</td>\n",
       "      <td>0.0</td>\n",
       "      <td>66.0</td>\n",
       "      <td>360.0</td>\n",
       "      <td>1.0</td>\n",
       "      <td>Urban</td>\n",
       "      <td>Y</td>\n",
       "    </tr>\n",
       "    <tr>\n",
       "      <th>3</th>\n",
       "      <td>LP001006</td>\n",
       "      <td>Male</td>\n",
       "      <td>Yes</td>\n",
       "      <td>0</td>\n",
       "      <td>Not Graduate</td>\n",
       "      <td>No</td>\n",
       "      <td>2583</td>\n",
       "      <td>2358.0</td>\n",
       "      <td>120.0</td>\n",
       "      <td>360.0</td>\n",
       "      <td>1.0</td>\n",
       "      <td>Urban</td>\n",
       "      <td>Y</td>\n",
       "    </tr>\n",
       "    <tr>\n",
       "      <th>4</th>\n",
       "      <td>LP001008</td>\n",
       "      <td>Male</td>\n",
       "      <td>No</td>\n",
       "      <td>0</td>\n",
       "      <td>Graduate</td>\n",
       "      <td>No</td>\n",
       "      <td>6000</td>\n",
       "      <td>0.0</td>\n",
       "      <td>141.0</td>\n",
       "      <td>360.0</td>\n",
       "      <td>1.0</td>\n",
       "      <td>Urban</td>\n",
       "      <td>Y</td>\n",
       "    </tr>\n",
       "  </tbody>\n",
       "</table>\n",
       "</div>"
      ],
      "text/plain": [
       "    Loan_ID Gender Married Dependents     Education Self_Employed  \\\n",
       "0  LP001002   Male      No          0      Graduate            No   \n",
       "1  LP001003   Male     Yes          1      Graduate            No   \n",
       "2  LP001005   Male     Yes          0      Graduate           Yes   \n",
       "3  LP001006   Male     Yes          0  Not Graduate            No   \n",
       "4  LP001008   Male      No          0      Graduate            No   \n",
       "\n",
       "   ApplicantIncome  CoapplicantIncome  LoanAmount  Loan_Amount_Term  \\\n",
       "0             5849                0.0         NaN             360.0   \n",
       "1             4583             1508.0       128.0             360.0   \n",
       "2             3000                0.0        66.0             360.0   \n",
       "3             2583             2358.0       120.0             360.0   \n",
       "4             6000                0.0       141.0             360.0   \n",
       "\n",
       "   Credit_History Property_Area Loan_Status  \n",
       "0             1.0         Urban           Y  \n",
       "1             1.0         Rural           N  \n",
       "2             1.0         Urban           Y  \n",
       "3             1.0         Urban           Y  \n",
       "4             1.0         Urban           Y  "
      ]
     },
     "execution_count": 22,
     "metadata": {},
     "output_type": "execute_result"
    }
   ],
   "source": [
    "LD = pd.read_csv(r'''C:\\Users\\USER\\OneDrive\\Desktop\\Naresh\\DS and ML Projects\\Data\\Loan_data\\Loan_data.csv''')\n",
    "LD.head()"
   ]
  },
  {
   "cell_type": "markdown",
   "id": "245104b7",
   "metadata": {},
   "source": [
    "##### EDA"
   ]
  },
  {
   "cell_type": "code",
   "execution_count": 23,
   "id": "53d2cb89",
   "metadata": {},
   "outputs": [
    {
     "name": "stdout",
     "output_type": "stream",
     "text": [
      "<class 'pandas.core.frame.DataFrame'>\n",
      "RangeIndex: 614 entries, 0 to 613\n",
      "Data columns (total 13 columns):\n",
      " #   Column             Non-Null Count  Dtype  \n",
      "---  ------             --------------  -----  \n",
      " 0   Loan_ID            614 non-null    object \n",
      " 1   Gender             601 non-null    object \n",
      " 2   Married            611 non-null    object \n",
      " 3   Dependents         599 non-null    object \n",
      " 4   Education          614 non-null    object \n",
      " 5   Self_Employed      582 non-null    object \n",
      " 6   ApplicantIncome    614 non-null    int64  \n",
      " 7   CoapplicantIncome  614 non-null    float64\n",
      " 8   LoanAmount         592 non-null    float64\n",
      " 9   Loan_Amount_Term   600 non-null    float64\n",
      " 10  Credit_History     564 non-null    float64\n",
      " 11  Property_Area      614 non-null    object \n",
      " 12  Loan_Status        614 non-null    object \n",
      "dtypes: float64(4), int64(1), object(8)\n",
      "memory usage: 62.5+ KB\n"
     ]
    }
   ],
   "source": [
    "LD.info()"
   ]
  },
  {
   "cell_type": "code",
   "execution_count": 24,
   "id": "f48dfa95",
   "metadata": {},
   "outputs": [
    {
     "data": {
      "text/html": [
       "<div>\n",
       "<style scoped>\n",
       "    .dataframe tbody tr th:only-of-type {\n",
       "        vertical-align: middle;\n",
       "    }\n",
       "\n",
       "    .dataframe tbody tr th {\n",
       "        vertical-align: top;\n",
       "    }\n",
       "\n",
       "    .dataframe thead th {\n",
       "        text-align: right;\n",
       "    }\n",
       "</style>\n",
       "<table border=\"1\" class=\"dataframe\">\n",
       "  <thead>\n",
       "    <tr style=\"text-align: right;\">\n",
       "      <th></th>\n",
       "      <th>ApplicantIncome</th>\n",
       "      <th>CoapplicantIncome</th>\n",
       "      <th>LoanAmount</th>\n",
       "      <th>Loan_Amount_Term</th>\n",
       "      <th>Credit_History</th>\n",
       "    </tr>\n",
       "  </thead>\n",
       "  <tbody>\n",
       "    <tr>\n",
       "      <th>count</th>\n",
       "      <td>614.000000</td>\n",
       "      <td>614.000000</td>\n",
       "      <td>592.000000</td>\n",
       "      <td>600.00000</td>\n",
       "      <td>564.000000</td>\n",
       "    </tr>\n",
       "    <tr>\n",
       "      <th>mean</th>\n",
       "      <td>5403.459283</td>\n",
       "      <td>1621.245798</td>\n",
       "      <td>146.412162</td>\n",
       "      <td>342.00000</td>\n",
       "      <td>0.842199</td>\n",
       "    </tr>\n",
       "    <tr>\n",
       "      <th>std</th>\n",
       "      <td>6109.041673</td>\n",
       "      <td>2926.248369</td>\n",
       "      <td>85.587325</td>\n",
       "      <td>65.12041</td>\n",
       "      <td>0.364878</td>\n",
       "    </tr>\n",
       "    <tr>\n",
       "      <th>min</th>\n",
       "      <td>150.000000</td>\n",
       "      <td>0.000000</td>\n",
       "      <td>9.000000</td>\n",
       "      <td>12.00000</td>\n",
       "      <td>0.000000</td>\n",
       "    </tr>\n",
       "    <tr>\n",
       "      <th>25%</th>\n",
       "      <td>2877.500000</td>\n",
       "      <td>0.000000</td>\n",
       "      <td>100.000000</td>\n",
       "      <td>360.00000</td>\n",
       "      <td>1.000000</td>\n",
       "    </tr>\n",
       "    <tr>\n",
       "      <th>50%</th>\n",
       "      <td>3812.500000</td>\n",
       "      <td>1188.500000</td>\n",
       "      <td>128.000000</td>\n",
       "      <td>360.00000</td>\n",
       "      <td>1.000000</td>\n",
       "    </tr>\n",
       "    <tr>\n",
       "      <th>75%</th>\n",
       "      <td>5795.000000</td>\n",
       "      <td>2297.250000</td>\n",
       "      <td>168.000000</td>\n",
       "      <td>360.00000</td>\n",
       "      <td>1.000000</td>\n",
       "    </tr>\n",
       "    <tr>\n",
       "      <th>max</th>\n",
       "      <td>81000.000000</td>\n",
       "      <td>41667.000000</td>\n",
       "      <td>700.000000</td>\n",
       "      <td>480.00000</td>\n",
       "      <td>1.000000</td>\n",
       "    </tr>\n",
       "  </tbody>\n",
       "</table>\n",
       "</div>"
      ],
      "text/plain": [
       "       ApplicantIncome  CoapplicantIncome  LoanAmount  Loan_Amount_Term  \\\n",
       "count       614.000000         614.000000  592.000000         600.00000   \n",
       "mean       5403.459283        1621.245798  146.412162         342.00000   \n",
       "std        6109.041673        2926.248369   85.587325          65.12041   \n",
       "min         150.000000           0.000000    9.000000          12.00000   \n",
       "25%        2877.500000           0.000000  100.000000         360.00000   \n",
       "50%        3812.500000        1188.500000  128.000000         360.00000   \n",
       "75%        5795.000000        2297.250000  168.000000         360.00000   \n",
       "max       81000.000000       41667.000000  700.000000         480.00000   \n",
       "\n",
       "       Credit_History  \n",
       "count      564.000000  \n",
       "mean         0.842199  \n",
       "std          0.364878  \n",
       "min          0.000000  \n",
       "25%          1.000000  \n",
       "50%          1.000000  \n",
       "75%          1.000000  \n",
       "max          1.000000  "
      ]
     },
     "execution_count": 24,
     "metadata": {},
     "output_type": "execute_result"
    }
   ],
   "source": [
    "LD.describe()"
   ]
  },
  {
   "cell_type": "code",
   "execution_count": 25,
   "id": "aee4d179",
   "metadata": {},
   "outputs": [
    {
     "data": {
      "text/html": [
       "<div>\n",
       "<style scoped>\n",
       "    .dataframe tbody tr th:only-of-type {\n",
       "        vertical-align: middle;\n",
       "    }\n",
       "\n",
       "    .dataframe tbody tr th {\n",
       "        vertical-align: top;\n",
       "    }\n",
       "\n",
       "    .dataframe thead th {\n",
       "        text-align: right;\n",
       "    }\n",
       "</style>\n",
       "<table border=\"1\" class=\"dataframe\">\n",
       "  <thead>\n",
       "    <tr style=\"text-align: right;\">\n",
       "      <th></th>\n",
       "      <th>Loan_ID</th>\n",
       "      <th>Gender</th>\n",
       "      <th>Married</th>\n",
       "      <th>Dependents</th>\n",
       "      <th>Education</th>\n",
       "      <th>Self_Employed</th>\n",
       "      <th>Property_Area</th>\n",
       "      <th>Loan_Status</th>\n",
       "    </tr>\n",
       "  </thead>\n",
       "  <tbody>\n",
       "    <tr>\n",
       "      <th>count</th>\n",
       "      <td>614</td>\n",
       "      <td>601</td>\n",
       "      <td>611</td>\n",
       "      <td>599</td>\n",
       "      <td>614</td>\n",
       "      <td>582</td>\n",
       "      <td>614</td>\n",
       "      <td>614</td>\n",
       "    </tr>\n",
       "    <tr>\n",
       "      <th>unique</th>\n",
       "      <td>614</td>\n",
       "      <td>2</td>\n",
       "      <td>2</td>\n",
       "      <td>4</td>\n",
       "      <td>2</td>\n",
       "      <td>2</td>\n",
       "      <td>3</td>\n",
       "      <td>2</td>\n",
       "    </tr>\n",
       "    <tr>\n",
       "      <th>top</th>\n",
       "      <td>LP001002</td>\n",
       "      <td>Male</td>\n",
       "      <td>Yes</td>\n",
       "      <td>0</td>\n",
       "      <td>Graduate</td>\n",
       "      <td>No</td>\n",
       "      <td>Semiurban</td>\n",
       "      <td>Y</td>\n",
       "    </tr>\n",
       "    <tr>\n",
       "      <th>freq</th>\n",
       "      <td>1</td>\n",
       "      <td>489</td>\n",
       "      <td>398</td>\n",
       "      <td>345</td>\n",
       "      <td>480</td>\n",
       "      <td>500</td>\n",
       "      <td>233</td>\n",
       "      <td>422</td>\n",
       "    </tr>\n",
       "  </tbody>\n",
       "</table>\n",
       "</div>"
      ],
      "text/plain": [
       "         Loan_ID Gender Married Dependents Education Self_Employed  \\\n",
       "count        614    601     611        599       614           582   \n",
       "unique       614      2       2          4         2             2   \n",
       "top     LP001002   Male     Yes          0  Graduate            No   \n",
       "freq           1    489     398        345       480           500   \n",
       "\n",
       "       Property_Area Loan_Status  \n",
       "count            614         614  \n",
       "unique             3           2  \n",
       "top        Semiurban           Y  \n",
       "freq             233         422  "
      ]
     },
     "execution_count": 25,
     "metadata": {},
     "output_type": "execute_result"
    }
   ],
   "source": [
    "LD.describe(include = object)"
   ]
  },
  {
   "cell_type": "code",
   "execution_count": 26,
   "id": "edb54e9f",
   "metadata": {},
   "outputs": [
    {
     "data": {
      "text/plain": [
       "Loan_ID               0\n",
       "Gender               13\n",
       "Married               3\n",
       "Dependents           15\n",
       "Education             0\n",
       "Self_Employed        32\n",
       "ApplicantIncome       0\n",
       "CoapplicantIncome     0\n",
       "LoanAmount           22\n",
       "Loan_Amount_Term     14\n",
       "Credit_History       50\n",
       "Property_Area         0\n",
       "Loan_Status           0\n",
       "dtype: int64"
      ]
     },
     "execution_count": 26,
     "metadata": {},
     "output_type": "execute_result"
    }
   ],
   "source": [
    "#Checking for null values if any\n",
    "LD.isnull().sum()"
   ]
  },
  {
   "cell_type": "code",
   "execution_count": 27,
   "id": "b7bbcbe0",
   "metadata": {},
   "outputs": [
    {
     "data": {
      "text/plain": [
       "Loan_ID              0\n",
       "Gender               0\n",
       "Married              0\n",
       "Dependents           0\n",
       "Education            0\n",
       "Self_Employed        0\n",
       "ApplicantIncome      0\n",
       "CoapplicantIncome    0\n",
       "LoanAmount           0\n",
       "Loan_Amount_Term     0\n",
       "Credit_History       0\n",
       "Property_Area        0\n",
       "Loan_Status          0\n",
       "dtype: int64"
      ]
     },
     "execution_count": 27,
     "metadata": {},
     "output_type": "execute_result"
    }
   ],
   "source": [
    "#Filling null values\n",
    "LD[\"Gender\"].fillna(LD[\"Gender\"].mode()[0], inplace = True)\n",
    "LD[\"Married\"].fillna(LD[\"Married\"].mode()[0], inplace = True)\n",
    "LD[\"Dependents\"].fillna(LD[\"Dependents\"].mode()[0], inplace = True)\n",
    "LD[\"Self_Employed\"].fillna(LD[\"Self_Employed\"].mode()[0], inplace = True)\n",
    "\n",
    "LD[\"LoanAmount\"].fillna(LD[\"LoanAmount\"].mean(), inplace = True)\n",
    "LD[\"Loan_Amount_Term\"].fillna(LD[\"Loan_Amount_Term\"].mean(), inplace = True)\n",
    "LD[\"Credit_History\"].fillna(LD[\"Credit_History\"].mode()[0], inplace = True)\n",
    "\n",
    "LD.isnull().sum()"
   ]
  },
  {
   "cell_type": "code",
   "execution_count": 28,
   "id": "7e59fbfb",
   "metadata": {},
   "outputs": [
    {
     "data": {
      "text/plain": [
       "Loan_ID                0\n",
       "Gender                 0\n",
       "Married                0\n",
       "Dependents             0\n",
       "Education              0\n",
       "Self_Employed          0\n",
       "ApplicantIncome        0\n",
       "CoapplicantIncome    0.0\n",
       "LoanAmount           0.0\n",
       "Loan_Amount_Term     0.0\n",
       "Credit_History       0.0\n",
       "Property_Area          0\n",
       "Loan_Status            0\n",
       "dtype: object"
      ]
     },
     "execution_count": 28,
     "metadata": {},
     "output_type": "execute_result"
    }
   ],
   "source": [
    "#Checking for duplicate values if any\n",
    "LD[LD.duplicated()].sum()"
   ]
  },
  {
   "cell_type": "markdown",
   "id": "23efdb1e",
   "metadata": {},
   "source": [
    "##### Univariate vizualization"
   ]
  },
  {
   "cell_type": "code",
   "execution_count": 29,
   "id": "0b347083",
   "metadata": {},
   "outputs": [
    {
     "name": "stdout",
     "output_type": "stream",
     "text": [
      "Gender\n",
      "Male      502\n",
      "Female    112\n",
      "Name: count, dtype: int64\n"
     ]
    },
    {
     "data": {
      "text/plain": [
       "<Axes: xlabel='Gender', ylabel='count'>"
      ]
     },
     "execution_count": 29,
     "metadata": {},
     "output_type": "execute_result"
    },
    {
     "data": {
      "image/png": "[encoded data removed]",
      "text/plain": [
       "<Figure size 640x480 with 1 Axes>"
      ]
     },
     "metadata": {},
     "output_type": "display_data"
    }
   ],
   "source": [
    "#Gender count\n",
    "print(LD[\"Gender\"].value_counts())\n",
    "sns.countplot(x = \"Gender\", data = LD, palette = \"Set2\")\n"
   ]
  },
  {
   "cell_type": "code",
   "execution_count": 30,
   "id": "ee1d0695",
   "metadata": {},
   "outputs": [
    {
     "name": "stdout",
     "output_type": "stream",
     "text": [
      "Married\n",
      "Yes    401\n",
      "No     213\n",
      "Name: count, dtype: int64\n"
     ]
    },
    {
     "data": {
      "text/plain": [
       "<Axes: xlabel='Married', ylabel='count'>"
      ]
     },
     "execution_count": 30,
     "metadata": {},
     "output_type": "execute_result"
    },
    {
     "data": {
      "image/png": "[encoded data removed]",
      "text/plain": [
       "<Figure size 640x480 with 1 Axes>"
      ]
     },
     "metadata": {},
     "output_type": "display_data"
    }
   ],
   "source": [
    "print(LD[\"Married\"].value_counts())\n",
    "sns.countplot(x = \"Married\", data = LD, palette = \"Set1\")"
   ]
  },
  {
   "cell_type": "code",
   "execution_count": 31,
   "id": "3d4b9bc3",
   "metadata": {},
   "outputs": [
    {
     "name": "stdout",
     "output_type": "stream",
     "text": [
      "Dependents\n",
      "0     360\n",
      "1     102\n",
      "2     101\n",
      "3+     51\n",
      "Name: count, dtype: int64\n"
     ]
    },
    {
     "data": {
      "text/plain": [
       "<Axes: xlabel='Dependents', ylabel='count'>"
      ]
     },
     "execution_count": 31,
     "metadata": {},
     "output_type": "execute_result"
    },
    {
     "data": {
      "image/png": "[encoded data removed]",
      "text/plain": [
       "<Figure size 640x480 with 1 Axes>"
      ]
     },
     "metadata": {},
     "output_type": "display_data"
    }
   ],
   "source": [
    "print(LD[\"Dependents\"].value_counts())\n",
    "sns.countplot(x = \"Dependents\", data = LD, palette = \"Set2\")"
   ]
  },
  {
   "cell_type": "code",
   "execution_count": 32,
   "id": "df5c2184",
   "metadata": {},
   "outputs": [
    {
     "name": "stdout",
     "output_type": "stream",
     "text": [
      "Education\n",
      "Graduate        480\n",
      "Not Graduate    134\n",
      "Name: count, dtype: int64\n"
     ]
    },
    {
     "data": {
      "text/plain": [
       "<Axes: xlabel='Education', ylabel='count'>"
      ]
     },
     "execution_count": 32,
     "metadata": {},
     "output_type": "execute_result"
    },
    {
     "data": {
      "image/png": "[encoded data removed]",
      "text/plain": [
       "<Figure size 640x480 with 1 Axes>"
      ]
     },
     "metadata": {},
     "output_type": "display_data"
    }
   ],
   "source": [
    "print(LD[\"Education\"].value_counts())\n",
    "sns.countplot(x = \"Education\", data = LD, palette = \"Set2\")"
   ]
  },
  {
   "cell_type": "code",
   "execution_count": 33,
   "id": "a0a1a272",
   "metadata": {},
   "outputs": [
    {
     "name": "stdout",
     "output_type": "stream",
     "text": [
      "Self_Employed\n",
      "No     532\n",
      "Yes     82\n",
      "Name: count, dtype: int64\n"
     ]
    },
    {
     "data": {
      "text/plain": [
       "<Axes: xlabel='Self_Employed', ylabel='count'>"
      ]
     },
     "execution_count": 33,
     "metadata": {},
     "output_type": "execute_result"
    },
    {
     "data": {
      "image/png": "[encoded data removed]",
      "text/plain": [
       "<Figure size 640x480 with 1 Axes>"
      ]
     },
     "metadata": {},
     "output_type": "display_data"
    }
   ],
   "source": [
    "print(LD[\"Self_Employed\"].value_counts())\n",
    "sns.countplot(x = \"Self_Employed\", data = LD, palette = \"Set1\")"
   ]
  },
  {
   "cell_type": "code",
   "execution_count": 34,
   "id": "bc8fb932",
   "metadata": {},
   "outputs": [
    {
     "name": "stdout",
     "output_type": "stream",
     "text": [
      "Property_Area\n",
      "Semiurban    233\n",
      "Urban        202\n",
      "Rural        179\n",
      "Name: count, dtype: int64\n"
     ]
    },
    {
     "data": {
      "text/plain": [
       "<Axes: xlabel='Property_Area', ylabel='count'>"
      ]
     },
     "execution_count": 34,
     "metadata": {},
     "output_type": "execute_result"
    },
    {
     "data": {
      "image/png": "[encoded data removed]",
      "text/plain": [
       "<Figure size 640x480 with 1 Axes>"
      ]
     },
     "metadata": {},
     "output_type": "display_data"
    }
   ],
   "source": [
    "print(LD[\"Property_Area\"].value_counts())\n",
    "sns.countplot(x = \"Property_Area\", data = LD, palette = \"Set2\")"
   ]
  },
  {
   "cell_type": "code",
   "execution_count": 35,
   "id": "1230eca3",
   "metadata": {},
   "outputs": [
    {
     "name": "stdout",
     "output_type": "stream",
     "text": [
      "Loan_Status\n",
      "Y    422\n",
      "N    192\n",
      "Name: count, dtype: int64\n"
     ]
    },
    {
     "data": {
      "text/plain": [
       "<Axes: xlabel='Loan_Status', ylabel='count'>"
      ]
     },
     "execution_count": 35,
     "metadata": {},
     "output_type": "execute_result"
    },
    {
     "data": {
      "image/png": "[encoded data removed]",
      "text/plain": [
       "<Figure size 640x480 with 1 Axes>"
      ]
     },
     "metadata": {},
     "output_type": "display_data"
    }
   ],
   "source": [
    "print(LD[\"Loan_Status\"].value_counts())\n",
    "sns.countplot(x = \"Loan_Status\", data = LD, palette = \"Set3\")"
   ]
  },
  {
   "cell_type": "code",
   "execution_count": 36,
   "id": "cd402d72",
   "metadata": {},
   "outputs": [
    {
     "name": "stdout",
     "output_type": "stream",
     "text": [
      "Credit_History\n",
      "1.0    525\n",
      "0.0     89\n",
      "Name: count, dtype: int64\n"
     ]
    },
    {
     "data": {
      "text/plain": [
       "<Axes: xlabel='Credit_History', ylabel='count'>"
      ]
     },
     "execution_count": 36,
     "metadata": {},
     "output_type": "execute_result"
    },
    {
     "data": {
      "image/png": "[encoded data removed]",
      "text/plain": [
       "<Figure size 640x480 with 1 Axes>"
      ]
     },
     "metadata": {},
     "output_type": "display_data"
    }
   ],
   "source": [
    "print(LD[\"Credit_History\"].value_counts())\n",
    "sns.countplot(x = \"Credit_History\", data = LD, palette = \"Set3\")"
   ]
  },
  {
   "cell_type": "code",
   "execution_count": 37,
   "id": "e6ba17cc",
   "metadata": {},
   "outputs": [
    {
     "data": {
      "text/plain": [
       "Index(['Loan_ID', 'Gender', 'Married', 'Dependents', 'Education',\n",
       "       'Self_Employed', 'Property_Area', 'Loan_Status'],\n",
       "      dtype='object')"
      ]
     },
     "execution_count": 37,
     "metadata": {},
     "output_type": "execute_result"
    }
   ],
   "source": [
    "obj_col = LD.select_dtypes(include = [\"object\"]).columns\n",
    "obj_col"
   ]
  },
  {
   "cell_type": "code",
   "execution_count": 38,
   "id": "67fb7e23",
   "metadata": {
    "scrolled": true
   },
   "outputs": [
    {
     "data": {
      "text/plain": [
       "{'Loan_ID': LabelEncoder(),\n",
       " 'Gender': LabelEncoder(),\n",
       " 'Married': LabelEncoder(),\n",
       " 'Dependents': LabelEncoder(),\n",
       " 'Education': LabelEncoder(),\n",
       " 'Self_Employed': LabelEncoder(),\n",
       " 'Property_Area': LabelEncoder(),\n",
       " 'Loan_Status': LabelEncoder()}"
      ]
     },
     "execution_count": 38,
     "metadata": {},
     "output_type": "execute_result"
    }
   ],
   "source": [
    "#Preprocess the object data to numerical value\n",
    "from sklearn.preprocessing import LabelEncoder\n",
    "\n",
    "label_encoders = {col: LabelEncoder() for col in obj_col}\n",
    "label_encoders"
   ]
  },
  {
   "cell_type": "code",
   "execution_count": 39,
   "id": "9b1cead9",
   "metadata": {},
   "outputs": [
    {
     "name": "stdout",
     "output_type": "stream",
     "text": [
      "<class 'pandas.core.frame.DataFrame'>\n",
      "RangeIndex: 614 entries, 0 to 613\n",
      "Data columns (total 13 columns):\n",
      " #   Column             Non-Null Count  Dtype  \n",
      "---  ------             --------------  -----  \n",
      " 0   Loan_ID            614 non-null    int32  \n",
      " 1   Gender             614 non-null    int32  \n",
      " 2   Married            614 non-null    int32  \n",
      " 3   Dependents         614 non-null    int32  \n",
      " 4   Education          614 non-null    int32  \n",
      " 5   Self_Employed      614 non-null    int32  \n",
      " 6   ApplicantIncome    614 non-null    int64  \n",
      " 7   CoapplicantIncome  614 non-null    float64\n",
      " 8   LoanAmount         614 non-null    float64\n",
      " 9   Loan_Amount_Term   614 non-null    float64\n",
      " 10  Credit_History     614 non-null    float64\n",
      " 11  Property_Area      614 non-null    int32  \n",
      " 12  Loan_Status        614 non-null    int32  \n",
      "dtypes: float64(4), int32(8), int64(1)\n",
      "memory usage: 43.3 KB\n"
     ]
    }
   ],
   "source": [
    "#Fit_Transform Object data to numeric values\n",
    "for col in obj_col:\n",
    "    LD[col] = label_encoders[col].fit_transform(LD[col])\n",
    "LD.info()"
   ]
  },
  {
   "cell_type": "code",
   "execution_count": 40,
   "id": "f4c14de6",
   "metadata": {},
   "outputs": [
    {
     "data": {
      "text/html": [
       "<div>\n",
       "<style scoped>\n",
       "    .dataframe tbody tr th:only-of-type {\n",
       "        vertical-align: middle;\n",
       "    }\n",
       "\n",
       "    .dataframe tbody tr th {\n",
       "        vertical-align: top;\n",
       "    }\n",
       "\n",
       "    .dataframe thead th {\n",
       "        text-align: right;\n",
       "    }\n",
       "</style>\n",
       "<table border=\"1\" class=\"dataframe\">\n",
       "  <thead>\n",
       "    <tr style=\"text-align: right;\">\n",
       "      <th></th>\n",
       "      <th>Loan_ID</th>\n",
       "      <th>Gender</th>\n",
       "      <th>Married</th>\n",
       "      <th>Dependents</th>\n",
       "      <th>Education</th>\n",
       "      <th>Self_Employed</th>\n",
       "      <th>ApplicantIncome</th>\n",
       "      <th>CoapplicantIncome</th>\n",
       "      <th>LoanAmount</th>\n",
       "      <th>Loan_Amount_Term</th>\n",
       "      <th>Credit_History</th>\n",
       "      <th>Property_Area</th>\n",
       "      <th>Loan_Status</th>\n",
       "    </tr>\n",
       "  </thead>\n",
       "  <tbody>\n",
       "    <tr>\n",
       "      <th>0</th>\n",
       "      <td>0</td>\n",
       "      <td>1</td>\n",
       "      <td>0</td>\n",
       "      <td>0</td>\n",
       "      <td>0</td>\n",
       "      <td>0</td>\n",
       "      <td>5849</td>\n",
       "      <td>0.0</td>\n",
       "      <td>146.412162</td>\n",
       "      <td>360.0</td>\n",
       "      <td>1.0</td>\n",
       "      <td>2</td>\n",
       "      <td>1</td>\n",
       "    </tr>\n",
       "    <tr>\n",
       "      <th>1</th>\n",
       "      <td>1</td>\n",
       "      <td>1</td>\n",
       "      <td>1</td>\n",
       "      <td>1</td>\n",
       "      <td>0</td>\n",
       "      <td>0</td>\n",
       "      <td>4583</td>\n",
       "      <td>1508.0</td>\n",
       "      <td>128.000000</td>\n",
       "      <td>360.0</td>\n",
       "      <td>1.0</td>\n",
       "      <td>0</td>\n",
       "      <td>0</td>\n",
       "    </tr>\n",
       "    <tr>\n",
       "      <th>2</th>\n",
       "      <td>2</td>\n",
       "      <td>1</td>\n",
       "      <td>1</td>\n",
       "      <td>0</td>\n",
       "      <td>0</td>\n",
       "      <td>1</td>\n",
       "      <td>3000</td>\n",
       "      <td>0.0</td>\n",
       "      <td>66.000000</td>\n",
       "      <td>360.0</td>\n",
       "      <td>1.0</td>\n",
       "      <td>2</td>\n",
       "      <td>1</td>\n",
       "    </tr>\n",
       "    <tr>\n",
       "      <th>3</th>\n",
       "      <td>3</td>\n",
       "      <td>1</td>\n",
       "      <td>1</td>\n",
       "      <td>0</td>\n",
       "      <td>1</td>\n",
       "      <td>0</td>\n",
       "      <td>2583</td>\n",
       "      <td>2358.0</td>\n",
       "      <td>120.000000</td>\n",
       "      <td>360.0</td>\n",
       "      <td>1.0</td>\n",
       "      <td>2</td>\n",
       "      <td>1</td>\n",
       "    </tr>\n",
       "    <tr>\n",
       "      <th>4</th>\n",
       "      <td>4</td>\n",
       "      <td>1</td>\n",
       "      <td>0</td>\n",
       "      <td>0</td>\n",
       "      <td>0</td>\n",
       "      <td>0</td>\n",
       "      <td>6000</td>\n",
       "      <td>0.0</td>\n",
       "      <td>141.000000</td>\n",
       "      <td>360.0</td>\n",
       "      <td>1.0</td>\n",
       "      <td>2</td>\n",
       "      <td>1</td>\n",
       "    </tr>\n",
       "    <tr>\n",
       "      <th>...</th>\n",
       "      <td>...</td>\n",
       "      <td>...</td>\n",
       "      <td>...</td>\n",
       "      <td>...</td>\n",
       "      <td>...</td>\n",
       "      <td>...</td>\n",
       "      <td>...</td>\n",
       "      <td>...</td>\n",
       "      <td>...</td>\n",
       "      <td>...</td>\n",
       "      <td>...</td>\n",
       "      <td>...</td>\n",
       "      <td>...</td>\n",
       "    </tr>\n",
       "    <tr>\n",
       "      <th>609</th>\n",
       "      <td>609</td>\n",
       "      <td>0</td>\n",
       "      <td>0</td>\n",
       "      <td>0</td>\n",
       "      <td>0</td>\n",
       "      <td>0</td>\n",
       "      <td>2900</td>\n",
       "      <td>0.0</td>\n",
       "      <td>71.000000</td>\n",
       "      <td>360.0</td>\n",
       "      <td>1.0</td>\n",
       "      <td>0</td>\n",
       "      <td>1</td>\n",
       "    </tr>\n",
       "    <tr>\n",
       "      <th>610</th>\n",
       "      <td>610</td>\n",
       "      <td>1</td>\n",
       "      <td>1</td>\n",
       "      <td>3</td>\n",
       "      <td>0</td>\n",
       "      <td>0</td>\n",
       "      <td>4106</td>\n",
       "      <td>0.0</td>\n",
       "      <td>40.000000</td>\n",
       "      <td>180.0</td>\n",
       "      <td>1.0</td>\n",
       "      <td>0</td>\n",
       "      <td>1</td>\n",
       "    </tr>\n",
       "    <tr>\n",
       "      <th>611</th>\n",
       "      <td>611</td>\n",
       "      <td>1</td>\n",
       "      <td>1</td>\n",
       "      <td>1</td>\n",
       "      <td>0</td>\n",
       "      <td>0</td>\n",
       "      <td>8072</td>\n",
       "      <td>240.0</td>\n",
       "      <td>253.000000</td>\n",
       "      <td>360.0</td>\n",
       "      <td>1.0</td>\n",
       "      <td>2</td>\n",
       "      <td>1</td>\n",
       "    </tr>\n",
       "    <tr>\n",
       "      <th>612</th>\n",
       "      <td>612</td>\n",
       "      <td>1</td>\n",
       "      <td>1</td>\n",
       "      <td>2</td>\n",
       "      <td>0</td>\n",
       "      <td>0</td>\n",
       "      <td>7583</td>\n",
       "      <td>0.0</td>\n",
       "      <td>187.000000</td>\n",
       "      <td>360.0</td>\n",
       "      <td>1.0</td>\n",
       "      <td>2</td>\n",
       "      <td>1</td>\n",
       "    </tr>\n",
       "    <tr>\n",
       "      <th>613</th>\n",
       "      <td>613</td>\n",
       "      <td>0</td>\n",
       "      <td>0</td>\n",
       "      <td>0</td>\n",
       "      <td>0</td>\n",
       "      <td>1</td>\n",
       "      <td>4583</td>\n",
       "      <td>0.0</td>\n",
       "      <td>133.000000</td>\n",
       "      <td>360.0</td>\n",
       "      <td>0.0</td>\n",
       "      <td>1</td>\n",
       "      <td>0</td>\n",
       "    </tr>\n",
       "  </tbody>\n",
       "</table>\n",
       "<p>614 rows × 13 columns</p>\n",
       "</div>"
      ],
      "text/plain": [
       "     Loan_ID  Gender  Married  Dependents  Education  Self_Employed  \\\n",
       "0          0       1        0           0          0              0   \n",
       "1          1       1        1           1          0              0   \n",
       "2          2       1        1           0          0              1   \n",
       "3          3       1        1           0          1              0   \n",
       "4          4       1        0           0          0              0   \n",
       "..       ...     ...      ...         ...        ...            ...   \n",
       "609      609       0        0           0          0              0   \n",
       "610      610       1        1           3          0              0   \n",
       "611      611       1        1           1          0              0   \n",
       "612      612       1        1           2          0              0   \n",
       "613      613       0        0           0          0              1   \n",
       "\n",
       "     ApplicantIncome  CoapplicantIncome  LoanAmount  Loan_Amount_Term  \\\n",
       "0               5849                0.0  146.412162             360.0   \n",
       "1               4583             1508.0  128.000000             360.0   \n",
       "2               3000                0.0   66.000000             360.0   \n",
       "3               2583             2358.0  120.000000             360.0   \n",
       "4               6000                0.0  141.000000             360.0   \n",
       "..               ...                ...         ...               ...   \n",
       "609             2900                0.0   71.000000             360.0   \n",
       "610             4106                0.0   40.000000             180.0   \n",
       "611             8072              240.0  253.000000             360.0   \n",
       "612             7583                0.0  187.000000             360.0   \n",
       "613             4583                0.0  133.000000             360.0   \n",
       "\n",
       "     Credit_History  Property_Area  Loan_Status  \n",
       "0               1.0              2            1  \n",
       "1               1.0              0            0  \n",
       "2               1.0              2            1  \n",
       "3               1.0              2            1  \n",
       "4               1.0              2            1  \n",
       "..              ...            ...          ...  \n",
       "609             1.0              0            1  \n",
       "610             1.0              0            1  \n",
       "611             1.0              2            1  \n",
       "612             1.0              2            1  \n",
       "613             0.0              1            0  \n",
       "\n",
       "[614 rows x 13 columns]"
      ]
     },
     "execution_count": 40,
     "metadata": {},
     "output_type": "execute_result"
    }
   ],
   "source": [
    "#Splitting feature and Target data\n",
    "\n",
    "X = LD.drop([\"Loan_Status\"], axis = 1)\n",
    "y = LD[\"Loan_Status\"]\n",
    "LD"
   ]
  },
  {
   "cell_type": "code",
   "execution_count": 41,
   "id": "36bebff5",
   "metadata": {},
   "outputs": [
    {
     "data": {
      "text/plain": [
       "12"
      ]
     },
     "execution_count": 41,
     "metadata": {},
     "output_type": "execute_result"
    }
   ],
   "source": [
    "num_col = LD.drop([\"Loan_Status\"], axis = 1).select_dtypes(include = [\"number\"]).columns\n",
    "num_col.size"
   ]
  },
  {
   "cell_type": "code",
   "execution_count": 42,
   "id": "6115e28e",
   "metadata": {},
   "outputs": [
    {
     "data": {
      "text/html": [
       "<div>\n",
       "<style scoped>\n",
       "    .dataframe tbody tr th:only-of-type {\n",
       "        vertical-align: middle;\n",
       "    }\n",
       "\n",
       "    .dataframe tbody tr th {\n",
       "        vertical-align: top;\n",
       "    }\n",
       "\n",
       "    .dataframe thead th {\n",
       "        text-align: right;\n",
       "    }\n",
       "</style>\n",
       "<table border=\"1\" class=\"dataframe\">\n",
       "  <thead>\n",
       "    <tr style=\"text-align: right;\">\n",
       "      <th></th>\n",
       "      <th>Loan_ID</th>\n",
       "      <th>Gender</th>\n",
       "      <th>Married</th>\n",
       "      <th>Dependents</th>\n",
       "      <th>Education</th>\n",
       "      <th>Self_Employed</th>\n",
       "      <th>ApplicantIncome</th>\n",
       "      <th>CoapplicantIncome</th>\n",
       "      <th>LoanAmount</th>\n",
       "      <th>Loan_Amount_Term</th>\n",
       "      <th>Credit_History</th>\n",
       "      <th>Property_Area</th>\n",
       "      <th>Loan_Status</th>\n",
       "    </tr>\n",
       "  </thead>\n",
       "  <tbody>\n",
       "    <tr>\n",
       "      <th>0</th>\n",
       "      <td>-1.729232</td>\n",
       "      <td>0.472343</td>\n",
       "      <td>-1.372089</td>\n",
       "      <td>-0.737806</td>\n",
       "      <td>-0.528362</td>\n",
       "      <td>-0.392601</td>\n",
       "      <td>0.072991</td>\n",
       "      <td>-0.554487</td>\n",
       "      <td>0.000000</td>\n",
       "      <td>0.279851</td>\n",
       "      <td>0.411733</td>\n",
       "      <td>1.223298</td>\n",
       "      <td>1</td>\n",
       "    </tr>\n",
       "    <tr>\n",
       "      <th>1</th>\n",
       "      <td>-1.723590</td>\n",
       "      <td>0.472343</td>\n",
       "      <td>0.728816</td>\n",
       "      <td>0.253470</td>\n",
       "      <td>-0.528362</td>\n",
       "      <td>-0.392601</td>\n",
       "      <td>-0.134412</td>\n",
       "      <td>-0.038732</td>\n",
       "      <td>-0.219273</td>\n",
       "      <td>0.279851</td>\n",
       "      <td>0.411733</td>\n",
       "      <td>-1.318513</td>\n",
       "      <td>0</td>\n",
       "    </tr>\n",
       "    <tr>\n",
       "      <th>2</th>\n",
       "      <td>-1.717948</td>\n",
       "      <td>0.472343</td>\n",
       "      <td>0.728816</td>\n",
       "      <td>-0.737806</td>\n",
       "      <td>-0.528362</td>\n",
       "      <td>2.547117</td>\n",
       "      <td>-0.393747</td>\n",
       "      <td>-0.554487</td>\n",
       "      <td>-0.957641</td>\n",
       "      <td>0.279851</td>\n",
       "      <td>0.411733</td>\n",
       "      <td>1.223298</td>\n",
       "      <td>1</td>\n",
       "    </tr>\n",
       "    <tr>\n",
       "      <th>3</th>\n",
       "      <td>-1.712307</td>\n",
       "      <td>0.472343</td>\n",
       "      <td>0.728816</td>\n",
       "      <td>-0.737806</td>\n",
       "      <td>1.892641</td>\n",
       "      <td>-0.392601</td>\n",
       "      <td>-0.462062</td>\n",
       "      <td>0.251980</td>\n",
       "      <td>-0.314547</td>\n",
       "      <td>0.279851</td>\n",
       "      <td>0.411733</td>\n",
       "      <td>1.223298</td>\n",
       "      <td>1</td>\n",
       "    </tr>\n",
       "    <tr>\n",
       "      <th>4</th>\n",
       "      <td>-1.706665</td>\n",
       "      <td>0.472343</td>\n",
       "      <td>-1.372089</td>\n",
       "      <td>-0.737806</td>\n",
       "      <td>-0.528362</td>\n",
       "      <td>-0.392601</td>\n",
       "      <td>0.097728</td>\n",
       "      <td>-0.554487</td>\n",
       "      <td>-0.064454</td>\n",
       "      <td>0.279851</td>\n",
       "      <td>0.411733</td>\n",
       "      <td>1.223298</td>\n",
       "      <td>1</td>\n",
       "    </tr>\n",
       "    <tr>\n",
       "      <th>...</th>\n",
       "      <td>...</td>\n",
       "      <td>...</td>\n",
       "      <td>...</td>\n",
       "      <td>...</td>\n",
       "      <td>...</td>\n",
       "      <td>...</td>\n",
       "      <td>...</td>\n",
       "      <td>...</td>\n",
       "      <td>...</td>\n",
       "      <td>...</td>\n",
       "      <td>...</td>\n",
       "      <td>...</td>\n",
       "      <td>...</td>\n",
       "    </tr>\n",
       "    <tr>\n",
       "      <th>609</th>\n",
       "      <td>1.706665</td>\n",
       "      <td>-2.117107</td>\n",
       "      <td>-1.372089</td>\n",
       "      <td>-0.737806</td>\n",
       "      <td>-0.528362</td>\n",
       "      <td>-0.392601</td>\n",
       "      <td>-0.410130</td>\n",
       "      <td>-0.554487</td>\n",
       "      <td>-0.898095</td>\n",
       "      <td>0.279851</td>\n",
       "      <td>0.411733</td>\n",
       "      <td>-1.318513</td>\n",
       "      <td>1</td>\n",
       "    </tr>\n",
       "    <tr>\n",
       "      <th>610</th>\n",
       "      <td>1.712307</td>\n",
       "      <td>0.472343</td>\n",
       "      <td>0.728816</td>\n",
       "      <td>2.236021</td>\n",
       "      <td>-0.528362</td>\n",
       "      <td>-0.392601</td>\n",
       "      <td>-0.212557</td>\n",
       "      <td>-0.554487</td>\n",
       "      <td>-1.267279</td>\n",
       "      <td>-2.518655</td>\n",
       "      <td>0.411733</td>\n",
       "      <td>-1.318513</td>\n",
       "      <td>1</td>\n",
       "    </tr>\n",
       "    <tr>\n",
       "      <th>611</th>\n",
       "      <td>1.717948</td>\n",
       "      <td>0.472343</td>\n",
       "      <td>0.728816</td>\n",
       "      <td>0.253470</td>\n",
       "      <td>-0.528362</td>\n",
       "      <td>-0.392601</td>\n",
       "      <td>0.437174</td>\n",
       "      <td>-0.472404</td>\n",
       "      <td>1.269371</td>\n",
       "      <td>0.279851</td>\n",
       "      <td>0.411733</td>\n",
       "      <td>1.223298</td>\n",
       "      <td>1</td>\n",
       "    </tr>\n",
       "    <tr>\n",
       "      <th>612</th>\n",
       "      <td>1.723590</td>\n",
       "      <td>0.472343</td>\n",
       "      <td>0.728816</td>\n",
       "      <td>1.244745</td>\n",
       "      <td>-0.528362</td>\n",
       "      <td>-0.392601</td>\n",
       "      <td>0.357064</td>\n",
       "      <td>-0.554487</td>\n",
       "      <td>0.483367</td>\n",
       "      <td>0.279851</td>\n",
       "      <td>0.411733</td>\n",
       "      <td>1.223298</td>\n",
       "      <td>1</td>\n",
       "    </tr>\n",
       "    <tr>\n",
       "      <th>613</th>\n",
       "      <td>1.729232</td>\n",
       "      <td>-2.117107</td>\n",
       "      <td>-1.372089</td>\n",
       "      <td>-0.737806</td>\n",
       "      <td>-0.528362</td>\n",
       "      <td>2.547117</td>\n",
       "      <td>-0.134412</td>\n",
       "      <td>-0.554487</td>\n",
       "      <td>-0.159728</td>\n",
       "      <td>0.279851</td>\n",
       "      <td>-2.428760</td>\n",
       "      <td>-0.047607</td>\n",
       "      <td>0</td>\n",
       "    </tr>\n",
       "  </tbody>\n",
       "</table>\n",
       "<p>614 rows × 13 columns</p>\n",
       "</div>"
      ],
      "text/plain": [
       "      Loan_ID    Gender   Married  Dependents  Education  Self_Employed  \\\n",
       "0   -1.729232  0.472343 -1.372089   -0.737806  -0.528362      -0.392601   \n",
       "1   -1.723590  0.472343  0.728816    0.253470  -0.528362      -0.392601   \n",
       "2   -1.717948  0.472343  0.728816   -0.737806  -0.528362       2.547117   \n",
       "3   -1.712307  0.472343  0.728816   -0.737806   1.892641      -0.392601   \n",
       "4   -1.706665  0.472343 -1.372089   -0.737806  -0.528362      -0.392601   \n",
       "..        ...       ...       ...         ...        ...            ...   \n",
       "609  1.706665 -2.117107 -1.372089   -0.737806  -0.528362      -0.392601   \n",
       "610  1.712307  0.472343  0.728816    2.236021  -0.528362      -0.392601   \n",
       "611  1.717948  0.472343  0.728816    0.253470  -0.528362      -0.392601   \n",
       "612  1.723590  0.472343  0.728816    1.244745  -0.528362      -0.392601   \n",
       "613  1.729232 -2.117107 -1.372089   -0.737806  -0.528362       2.547117   \n",
       "\n",
       "     ApplicantIncome  CoapplicantIncome  LoanAmount  Loan_Amount_Term  \\\n",
       "0           0.072991          -0.554487    0.000000          0.279851   \n",
       "1          -0.134412          -0.038732   -0.219273          0.279851   \n",
       "2          -0.393747          -0.554487   -0.957641          0.279851   \n",
       "3          -0.462062           0.251980   -0.314547          0.279851   \n",
       "4           0.097728          -0.554487   -0.064454          0.279851   \n",
       "..               ...                ...         ...               ...   \n",
       "609        -0.410130          -0.554487   -0.898095          0.279851   \n",
       "610        -0.212557          -0.554487   -1.267279         -2.518655   \n",
       "611         0.437174          -0.472404    1.269371          0.279851   \n",
       "612         0.357064          -0.554487    0.483367          0.279851   \n",
       "613        -0.134412          -0.554487   -0.159728          0.279851   \n",
       "\n",
       "     Credit_History  Property_Area  Loan_Status  \n",
       "0          0.411733       1.223298            1  \n",
       "1          0.411733      -1.318513            0  \n",
       "2          0.411733       1.223298            1  \n",
       "3          0.411733       1.223298            1  \n",
       "4          0.411733       1.223298            1  \n",
       "..              ...            ...          ...  \n",
       "609        0.411733      -1.318513            1  \n",
       "610        0.411733      -1.318513            1  \n",
       "611        0.411733       1.223298            1  \n",
       "612        0.411733       1.223298            1  \n",
       "613       -2.428760      -0.047607            0  \n",
       "\n",
       "[614 rows x 13 columns]"
      ]
     },
     "execution_count": 42,
     "metadata": {},
     "output_type": "execute_result"
    }
   ],
   "source": [
    "#Scaling the numerical data to fit into a same scaling\n",
    "from sklearn.preprocessing import StandardScaler\n",
    "\n",
    "scaler = StandardScaler()\n",
    "\n",
    "LD[num_col] = scaler.fit_transform(LD[num_col])\n",
    "LD"
   ]
  },
  {
   "cell_type": "code",
   "execution_count": 43,
   "id": "782a491b",
   "metadata": {},
   "outputs": [],
   "source": [
    "#preparing for test_train_split\n",
    "from sklearn.model_selection import train_test_split\n",
    "\n",
    "X_train, X_test, y_train, y_test = train_test_split(X, y, test_size = 0.2, random_state = 0, shuffle = True)\n"
   ]
  },
  {
   "cell_type": "code",
   "execution_count": 44,
   "id": "20d7bc10",
   "metadata": {},
   "outputs": [
    {
     "data": {
      "text/plain": [
       "(Loan_Status\n",
       " 1    332\n",
       " 0    159\n",
       " Name: count, dtype: int64,\n",
       " Loan_Status\n",
       " 1    90\n",
       " 0    33\n",
       " Name: count, dtype: int64)"
      ]
     },
     "execution_count": 44,
     "metadata": {},
     "output_type": "execute_result"
    }
   ],
   "source": [
    "y_train.shape, y_test.shape\n",
    "y_train.value_counts(), y_test.value_counts()"
   ]
  },
  {
   "cell_type": "markdown",
   "id": "73771fd1",
   "metadata": {},
   "source": [
    "### Random_Forest_Classifier Model"
   ]
  },
  {
   "cell_type": "code",
   "execution_count": 45,
   "id": "56a01901",
   "metadata": {},
   "outputs": [
    {
     "name": "stdout",
     "output_type": "stream",
     "text": [
      "Accuracy of Random_Forest_Classifier is: 0.821\n",
      "\n",
      "Classification Report of Random_Forest_Classifier is: \n",
      "               precision    recall  f1-score   support\n",
      "\n",
      "           0       0.48      0.76      0.59        21\n",
      "           1       0.94      0.83      0.89       102\n",
      "\n",
      "    accuracy                           0.82       123\n",
      "   macro avg       0.71      0.80      0.74       123\n",
      "weighted avg       0.87      0.82      0.84       123\n",
      "\n",
      "\n",
      "Confusion matric of Random_Forest_Classifier is: \n",
      " [[16  5]\n",
      " [17 85]]\n"
     ]
    }
   ],
   "source": [
    "from sklearn.metrics import accuracy_score\n",
    "from sklearn.metrics import classification_report\n",
    "from sklearn.metrics import confusion_matrix\n",
    "\n",
    "from sklearn.ensemble import RandomForestClassifier\n",
    "\n",
    "RF_clf = RandomForestClassifier()\n",
    "RF_clf.fit(X_train, y_train)\n",
    "\n",
    "RF_y_pred = RF_clf.predict(X_test)\n",
    "\n",
    "print(\"Accuracy of Random_Forest_Classifier is:\", round(accuracy_score(RF_y_pred, y_test), 3))\n",
    "print(\"\\nClassification Report of Random_Forest_Classifier is: \\n\", classification_report(RF_y_pred, y_test))\n",
    "print(\"\\nConfusion matric of Random_Forest_Classifier is: \\n\", confusion_matrix(RF_y_pred, y_test))"
   ]
  },
  {
   "cell_type": "markdown",
   "id": "c8c6ab91",
   "metadata": {},
   "source": [
    "### Naive Bayes Classifier"
   ]
  },
  {
   "cell_type": "code",
   "execution_count": 46,
   "id": "66edf3be",
   "metadata": {},
   "outputs": [
    {
     "name": "stdout",
     "output_type": "stream",
     "text": [
      "Accuracy of Naive_Bayes_Classifier is: 0.829\n",
      "\n",
      "Classification Report of Naive_Bayes_Classifier is: \n",
      "               precision    recall  f1-score   support\n",
      "\n",
      "           0       0.45      0.83      0.59        18\n",
      "           1       0.97      0.83      0.89       105\n",
      "\n",
      "    accuracy                           0.83       123\n",
      "   macro avg       0.71      0.83      0.74       123\n",
      "weighted avg       0.89      0.83      0.85       123\n",
      "\n",
      "\n",
      "Confusion matric of Naive_Bayes_Classifier is: \n",
      " [[15  3]\n",
      " [18 87]]\n"
     ]
    }
   ],
   "source": [
    "from sklearn.naive_bayes import GaussianNB\n",
    "\n",
    "NB_clf = GaussianNB()\n",
    "NB_clf.fit(X_train, y_train)\n",
    "\n",
    "NB_y_pred = NB_clf.predict(X_test)\n",
    "\n",
    "print(\"Accuracy of Naive_Bayes_Classifier is:\", round(accuracy_score(NB_y_pred, y_test), 3))\n",
    "print(\"\\nClassification Report of Naive_Bayes_Classifier is: \\n\", classification_report(NB_y_pred, y_test))\n",
    "print(\"\\nConfusion matric of Naive_Bayes_Classifier is: \\n\", confusion_matrix(NB_y_pred, y_test))"
   ]
  },
  {
   "cell_type": "markdown",
   "id": "300d0565",
   "metadata": {},
   "source": [
    "### Decision Tree Classifier"
   ]
  },
  {
   "cell_type": "code",
   "execution_count": 47,
   "id": "dac34496",
   "metadata": {},
   "outputs": [
    {
     "name": "stdout",
     "output_type": "stream",
     "text": [
      "Accuracy of Decision_Tree_Classifier is: 0.634\n",
      "\n",
      "Classification Report of Decision_Tree_Classifier is: \n",
      "               precision    recall  f1-score   support\n",
      "\n",
      "           0       0.33      0.32      0.33        34\n",
      "           1       0.74      0.75      0.75        89\n",
      "\n",
      "    accuracy                           0.63       123\n",
      "   macro avg       0.54      0.54      0.54       123\n",
      "weighted avg       0.63      0.63      0.63       123\n",
      "\n",
      "\n",
      "Confusion matric of Naive_Bayes_Classifier is: \n",
      " [[11 23]\n",
      " [22 67]]\n"
     ]
    }
   ],
   "source": [
    "from sklearn.tree import DecisionTreeClassifier\n",
    "\n",
    "DT_clf = DecisionTreeClassifier()\n",
    "DT_clf.fit(X_train, y_train)\n",
    "\n",
    "DT_y_pred = DT_clf.predict(X_test)\n",
    "\n",
    "print(\"Accuracy of Decision_Tree_Classifier is:\", round(accuracy_score(DT_y_pred, y_test), 3))\n",
    "print(\"\\nClassification Report of Decision_Tree_Classifier is: \\n\", classification_report(DT_y_pred, y_test))\n",
    "print(\"\\nConfusion matric of Naive_Bayes_Classifier is: \\n\", confusion_matrix(DT_y_pred, y_test))"
   ]
  },
  {
   "cell_type": "markdown",
   "id": "78481405",
   "metadata": {},
   "source": [
    "### KNearestNeighbors"
   ]
  },
  {
   "cell_type": "code",
   "execution_count": 48,
   "id": "1f695364",
   "metadata": {},
   "outputs": [
    {
     "name": "stdout",
     "output_type": "stream",
     "text": [
      "Accuracy of K_Neighbors_Classifier is: 0.626\n",
      "\n",
      "Classification Report of K_Neighbors_Classifier is: \n",
      "               precision    recall  f1-score   support\n",
      "\n",
      "           0       0.12      0.19      0.15        21\n",
      "           1       0.81      0.72      0.76       102\n",
      "\n",
      "    accuracy                           0.63       123\n",
      "   macro avg       0.47      0.45      0.45       123\n",
      "weighted avg       0.69      0.63      0.66       123\n",
      "\n",
      "\n",
      "Confusion matric of Naive_Bayes_Classifier is: \n",
      " [[ 4 17]\n",
      " [29 73]]\n"
     ]
    }
   ],
   "source": [
    "from sklearn.neighbors import KNeighborsClassifier\n",
    "\n",
    "KNN_clf = KNeighborsClassifier()\n",
    "KNN_clf.fit(X_train, y_train)\n",
    "\n",
    "KNN_y_pred = KNN_clf.predict(X_test)\n",
    "\n",
    "print(\"Accuracy of K_Neighbors_Classifier is:\", round(accuracy_score(KNN_y_pred, y_test), 3))\n",
    "print(\"\\nClassification Report of K_Neighbors_Classifier is: \\n\", classification_report(KNN_y_pred, y_test))\n",
    "print(\"\\nConfusion matric of Naive_Bayes_Classifier is: \\n\", confusion_matrix(KNN_y_pred, y_test))"
   ]
  },
  {
   "cell_type": "markdown",
   "id": "ebfcb5d0",
   "metadata": {},
   "source": [
    "### Support Vector Machine"
   ]
  },
  {
   "cell_type": "code",
   "execution_count": 49,
   "id": "32db144e",
   "metadata": {},
   "outputs": [
    {
     "name": "stdout",
     "output_type": "stream",
     "text": [
      "Accuracy of SVM_Classifier is: 0.732\n",
      "\n",
      "Classification Report of SVM_Classifier is: \n",
      "               precision    recall  f1-score   support\n",
      "\n",
      "           0       0.00      1.00      0.00         0\n",
      "           1       1.00      0.73      0.85       123\n",
      "\n",
      "    accuracy                           0.73       123\n",
      "   macro avg       0.50      0.87      0.42       123\n",
      "weighted avg       1.00      0.73      0.85       123\n",
      "\n",
      "\n",
      "Confusion matric of SVM_Classifier is: \n",
      " [[ 0  0]\n",
      " [33 90]]\n"
     ]
    }
   ],
   "source": [
    "from sklearn import svm\n",
    "\n",
    "SVM_clf = svm.SVC()\n",
    "SVM_clf.fit(X_train, y_train)\n",
    "\n",
    "SVM_y_pred = SVM_clf.predict(X_test)\n",
    "\n",
    "print(\"Accuracy of SVM_Classifier is:\", round(accuracy_score(SVM_y_pred, y_test), 3))\n",
    "print(\"\\nClassification Report of SVM_Classifier is: \\n\", classification_report(SVM_y_pred, y_test, zero_division = 1))\n",
    "print(\"\\nConfusion matric of SVM_Classifier is: \\n\", confusion_matrix(SVM_y_pred, y_test))"
   ]
  },
  {
   "cell_type": "markdown",
   "id": "41a79cb8",
   "metadata": {},
   "source": [
    "### Stochastic Gradient Descent"
   ]
  },
  {
   "cell_type": "code",
   "execution_count": 50,
   "id": "47bfe17b",
   "metadata": {},
   "outputs": [
    {
     "name": "stdout",
     "output_type": "stream",
     "text": [
      "Accuracy of Stochastic_Gradient_Descent_Classifier is: 0.423\n",
      "\n",
      "Classification Report of Stochastic_Gradient_Descent_Classifier is: \n",
      "               precision    recall  f1-score   support\n",
      "\n",
      "           0       0.48      0.23      0.31        70\n",
      "           1       0.40      0.68      0.50        53\n",
      "\n",
      "    accuracy                           0.42       123\n",
      "   macro avg       0.44      0.45      0.41       123\n",
      "weighted avg       0.45      0.42      0.39       123\n",
      "\n",
      "\n",
      "Confusion matric of Stochastic_Gradient_Descent_Classifier is: \n",
      " [[16 54]\n",
      " [17 36]]\n"
     ]
    }
   ],
   "source": [
    "from sklearn.linear_model import SGDClassifier\n",
    "\n",
    "SGD_clf = SGDClassifier()\n",
    "SGD_clf.fit(X_train, y_train)\n",
    "\n",
    "SGD_y_pred = SGD_clf.predict(X_test)\n",
    "\n",
    "print(\"Accuracy of Stochastic_Gradient_Descent_Classifier is:\", round(accuracy_score(SGD_y_pred, y_test), 3))\n",
    "print(\"\\nClassification Report of Stochastic_Gradient_Descent_Classifier is: \\n\", classification_report(SGD_y_pred, y_test))\n",
    "print(\"\\nConfusion matric of Stochastic_Gradient_Descent_Classifier is: \\n\", confusion_matrix(SGD_y_pred, y_test))"
   ]
  },
  {
   "cell_type": "markdown",
   "id": "90e6fff2",
   "metadata": {},
   "source": [
    "### Logistic Regression"
   ]
  },
  {
   "cell_type": "code",
   "execution_count": 51,
   "id": "aebd3493",
   "metadata": {},
   "outputs": [
    {
     "name": "stdout",
     "output_type": "stream",
     "text": [
      "Accuracy of Logistic Regression_Classifier is: 0.837\n",
      "\n",
      "Classification Report of Logistic Regression_Classifier is: \n",
      "               precision    recall  f1-score   support\n",
      "\n",
      "           0       0.45      0.88      0.60        17\n",
      "           1       0.98      0.83      0.90       106\n",
      "\n",
      "    accuracy                           0.84       123\n",
      "   macro avg       0.72      0.86      0.75       123\n",
      "weighted avg       0.91      0.84      0.86       123\n",
      "\n",
      "\n",
      "Confusion matric of Logistic Regression_Classifier is: \n",
      " [[15  2]\n",
      " [18 88]]\n"
     ]
    },
    {
     "name": "stderr",
     "output_type": "stream",
     "text": [
      "C:\\ProgramData\\anaconda3\\Lib\\site-packages\\sklearn\\linear_model\\_logistic.py:469: ConvergenceWarning: lbfgs failed to converge (status=1):\n",
      "STOP: TOTAL NO. of ITERATIONS REACHED LIMIT.\n",
      "\n",
      "Increase the number of iterations (max_iter) or scale the data as shown in:\n",
      "    https://scikit-learn.org/stable/modules/preprocessing.html\n",
      "Please also refer to the documentation for alternative solver options:\n",
      "    https://scikit-learn.org/stable/modules/linear_model.html#logistic-regression\n",
      "  n_iter_i = _check_optimize_result(\n"
     ]
    }
   ],
   "source": [
    "from sklearn.linear_model import LogisticRegression\n",
    "\n",
    "LGR_clf = LogisticRegression(max_iter = 1000)\n",
    "LGR_clf.fit(X_train, y_train)\n",
    "\n",
    "LGR_y_pred = LGR_clf.predict(X_test)\n",
    "\n",
    "print(\"Accuracy of Logistic Regression_Classifier is:\", round(accuracy_score(LGR_y_pred, y_test), 3))\n",
    "print(\"\\nClassification Report of Logistic Regression_Classifier is: \\n\", classification_report(LGR_y_pred, y_test))\n",
    "print(\"\\nConfusion matric of Logistic Regression_Classifier is: \\n\", confusion_matrix(LGR_y_pred, y_test))"
   ]
  },
  {
   "cell_type": "code",
   "execution_count": 52,
   "id": "2c7210a7",
   "metadata": {},
   "outputs": [
    {
     "name": "stdout",
     "output_type": "stream",
     "text": [
      "Accuracy of Random_Forest_Classifier is: 0.821\n",
      "----------------------------------------------------------------------------------------------------\n",
      "Accuracy of Naive_Bayes_Classifier is: 0.829\n",
      "----------------------------------------------------------------------------------------------------\n",
      "Accuracy of Decision_Tree_Classifier is: 0.634\n",
      "----------------------------------------------------------------------------------------------------\n",
      "Accuracy of K_Neighbors_Classifier is: 0.626\n",
      "----------------------------------------------------------------------------------------------------\n",
      "Accuracy of SVM_Classifier is: 0.732\n",
      "----------------------------------------------------------------------------------------------------\n",
      "Accuracy of Stochastic_Gradient_Descent_Classifier is: 0.423\n",
      "----------------------------------------------------------------------------------------------------\n",
      "Accuracy of Logistic Regression_Classifier is: 0.837\n",
      "----------------------------------------------------------------------------------------------------\n"
     ]
    }
   ],
   "source": [
    "print(\"Accuracy of Random_Forest_Classifier is:\", round(accuracy_score(RF_y_pred, y_test), 3))\n",
    "print(\"-\"*100)\n",
    "print(\"Accuracy of Naive_Bayes_Classifier is:\", round(accuracy_score(NB_y_pred, y_test), 3))\n",
    "print(\"-\"*100)\n",
    "print(\"Accuracy of Decision_Tree_Classifier is:\", round(accuracy_score(DT_y_pred, y_test), 3))\n",
    "print(\"-\"*100)\n",
    "print(\"Accuracy of K_Neighbors_Classifier is:\", round(accuracy_score(KNN_y_pred, y_test), 3))\n",
    "print(\"-\"*100)\n",
    "print(\"Accuracy of SVM_Classifier is:\", round(accuracy_score(SVM_y_pred, y_test), 3))\n",
    "print(\"-\"*100)\n",
    "print(\"Accuracy of Stochastic_Gradient_Descent_Classifier is:\", round(accuracy_score(SGD_y_pred, y_test), 3))\n",
    "print(\"-\"*100)\n",
    "print(\"Accuracy of Logistic Regression_Classifier is:\", round(accuracy_score(LGR_y_pred, y_test), 3))\n",
    "print(\"-\"*100)"
   ]
  }
 ],
 "metadata": {
  "kernelspec": {
   "display_name": "Python 3 (ipykernel)",
   "language": "python",
   "name": "python3"
  },
  "language_info": {
   "codemirror_mode": {
    "name": "ipython",
    "version": 3
   },
   "file_extension": ".py",
   "mimetype": "text/x-python",
   "name": "python",
   "nbconvert_exporter": "python",
   "pygments_lexer": "ipython3",
   "version": "3.11.5"
  }
 },
 "nbformat": 4,
 "nbformat_minor": 5
}
